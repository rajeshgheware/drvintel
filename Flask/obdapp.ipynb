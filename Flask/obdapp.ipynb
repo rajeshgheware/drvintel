{
 "cells": [
  {
   "cell_type": "code",
   "execution_count": null,
   "metadata": {},
   "outputs": [
    {
     "name": "stdout",
     "output_type": "stream",
     "text": [
      " * Serving Flask app \"__main__\" (lazy loading)\n",
      " * Environment: production\n",
      "\u001b[31m   WARNING: This is a development server. Do not use it in a production deployment.\u001b[0m\n",
      "\u001b[2m   Use a production WSGI server instead.\u001b[0m\n",
      " * Debug mode: on\n"
     ]
    },
    {
     "name": "stderr",
     "output_type": "stream",
     "text": [
      " * Running on http://127.0.0.1:5000/ (Press CTRL+C to quit)\n",
      "127.0.0.1 - - [22/May/2020 20:44:52] \"\u001b[37mGET / HTTP/1.1\u001b[0m\" 200 -\n",
      "127.0.0.1 - - [22/May/2020 20:45:19] \"\u001b[37mPOST /result HTTP/1.1\u001b[0m\" 200 -\n"
     ]
    }
   ],
   "source": [
    "import numpy as np\n",
    "from flask import Flask, request, jsonify, render_template\n",
    "import pickle\n",
    "\n",
    "app = Flask(__name__)\n",
    "model = pickle.load(open('model1.pkl', 'rb'))\n",
    "\n",
    "@app.route('/')\n",
    "def home():\n",
    "    return render_template('index1.html')\n",
    "\n",
    "\n",
    "@app.route('/result', methods = ['POST']) \n",
    "def result(): \n",
    "    if request.method == 'POST':\n",
    "        float_features = [float(x) for x in request.form.values()]\n",
    "        final_features = [np.array(float_features)]\n",
    "        #to_predict_list = request.form.to_dict() \n",
    "        #to_predict_list = list(to_predict_list.values()) \n",
    "        #to_predict_list = list(map(int, to_predict_list)) \n",
    "        result = model.predict(final_features)\n",
    "        if int(result)== 0: \n",
    "            prediction ='VERY GOOD'\n",
    "        elif int(result)== 1:\n",
    "            prediction ='GOOD'\n",
    "        elif int(result)== 2:\n",
    "            prediction ='AVERAGE'\n",
    "        elif int(result)== 3:\n",
    "            prediction='BAD'\n",
    "        else: \n",
    "            prediction='VERYBAD'            \n",
    "    \n",
    "        return render_template(\"index1.html\", prediction_text= prediction) \n",
    "\n",
    "\n",
    "if __name__ == '__main__':\n",
    "    app.debug = True\n",
    "    app.run(use_reloader=False)"
   ]
  }
 ],
 "metadata": {
  "kernelspec": {
   "display_name": "Python 3",
   "language": "python",
   "name": "python3"
  },
  "language_info": {
   "codemirror_mode": {
    "name": "ipython",
    "version": 3
   },
   "file_extension": ".py",
   "mimetype": "text/x-python",
   "name": "python",
   "nbconvert_exporter": "python",
   "pygments_lexer": "ipython3",
   "version": "3.7.6"
  }
 },
 "nbformat": 4,
 "nbformat_minor": 4
}
