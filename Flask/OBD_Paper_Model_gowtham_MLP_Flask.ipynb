{
 "cells": [
  {
   "cell_type": "code",
   "execution_count": 1,
   "metadata": {},
   "outputs": [],
   "source": [
    "import pandas as pd\n",
    "import numpy as np\n",
    "import matplotlib.pyplot as plt\n",
    "import os\n",
    "import glob"
   ]
  },
  {
   "cell_type": "code",
   "execution_count": 3,
   "metadata": {},
   "outputs": [
    {
     "name": "stdout",
     "output_type": "stream",
     "text": [
      "Collecting scikit-learn\n",
      "  Downloading scikit_learn-0.23.1-cp37-cp37m-macosx_10_9_x86_64.whl (7.2 MB)\n",
      "\u001b[K     |████████████████████████████████| 7.2 MB 1.8 MB/s eta 0:00:01     |█                               | 204 kB 1.5 MB/s eta 0:00:05\n",
      "\u001b[?25hRequirement already satisfied, skipping upgrade: scipy>=0.19.1 in /Applications/anaconda3/lib/python3.7/site-packages (from scikit-learn) (1.4.1)\n",
      "Requirement already satisfied, skipping upgrade: threadpoolctl>=2.0.0 in /Applications/anaconda3/lib/python3.7/site-packages (from scikit-learn) (2.0.0)\n",
      "Requirement already satisfied, skipping upgrade: numpy>=1.13.3 in /Applications/anaconda3/lib/python3.7/site-packages (from scikit-learn) (1.18.4)\n",
      "Requirement already satisfied, skipping upgrade: joblib>=0.11 in /Applications/anaconda3/lib/python3.7/site-packages (from scikit-learn) (0.14.1)\n",
      "\u001b[31mERROR: bamboolib 1.10.0 has requirement pandas<1.0.0,>=0.18.0, but you'll have pandas 1.0.3 which is incompatible.\u001b[0m\n",
      "Installing collected packages: scikit-learn\n",
      "  Attempting uninstall: scikit-learn\n",
      "    Found existing installation: scikit-learn 0.23.0\n",
      "    Uninstalling scikit-learn-0.23.0:\n",
      "      Successfully uninstalled scikit-learn-0.23.0\n",
      "Successfully installed scikit-learn-0.23.1\n",
      "Note: you may need to restart the kernel to use updated packages.\n"
     ]
    }
   ],
   "source": [
    "#pip install scikit-learn --upgrade"
   ]
  },
  {
   "cell_type": "code",
   "execution_count": 7,
   "metadata": {},
   "outputs": [],
   "source": [
    "\n",
    "#pip freeze\n"
   ]
  },
  {
   "cell_type": "code",
   "execution_count": 2,
   "metadata": {},
   "outputs": [],
   "source": [
    "df1= pd.read_excel(\"/Users/gowtham/Downloads/OBDdatasets-master/masterDegreeResearch/dailyRoutes.xlsx\")"
   ]
  },
  {
   "cell_type": "code",
   "execution_count": 3,
   "metadata": {},
   "outputs": [
    {
     "data": {
      "text/plain": [
       "(47514, 33)"
      ]
     },
     "execution_count": 3,
     "metadata": {},
     "output_type": "execute_result"
    }
   ],
   "source": [
    "df1.shape"
   ]
  },
  {
   "cell_type": "code",
   "execution_count": 4,
   "metadata": {},
   "outputs": [
    {
     "data": {
      "text/html": [
       "<div>\n",
       "<style scoped>\n",
       "    .dataframe tbody tr th:only-of-type {\n",
       "        vertical-align: middle;\n",
       "    }\n",
       "\n",
       "    .dataframe tbody tr th {\n",
       "        vertical-align: top;\n",
       "    }\n",
       "\n",
       "    .dataframe thead th {\n",
       "        text-align: right;\n",
       "    }\n",
       "</style>\n",
       "<table border=\"1\" class=\"dataframe\">\n",
       "  <thead>\n",
       "    <tr style=\"text-align: right;\">\n",
       "      <th></th>\n",
       "      <th>TIMESTAMP</th>\n",
       "      <th>MARK</th>\n",
       "      <th>MODEL</th>\n",
       "      <th>CAR_YEAR</th>\n",
       "      <th>ENGINE_POWER</th>\n",
       "      <th>AUTOMATIC</th>\n",
       "      <th>VEHICLE_ID</th>\n",
       "      <th>BAROMETRIC_PRESSURE(KPA)</th>\n",
       "      <th>ENGINE_COOLANT_TEMP</th>\n",
       "      <th>FUEL_LEVEL</th>\n",
       "      <th>...</th>\n",
       "      <th>THROTTLE_POS</th>\n",
       "      <th>DTC_NUMBER</th>\n",
       "      <th>TROUBLE_CODES</th>\n",
       "      <th>TIMING_ADVANCE</th>\n",
       "      <th>EQUIV_RATIO</th>\n",
       "      <th>MIN</th>\n",
       "      <th>HOURS</th>\n",
       "      <th>DAYS_OF_WEEK</th>\n",
       "      <th>MONTHS</th>\n",
       "      <th>YEAR</th>\n",
       "    </tr>\n",
       "  </thead>\n",
       "  <tbody>\n",
       "    <tr>\n",
       "      <th>0</th>\n",
       "      <td>1502902504267</td>\n",
       "      <td>chevrolet</td>\n",
       "      <td>agile</td>\n",
       "      <td>2011.0</td>\n",
       "      <td>1.4</td>\n",
       "      <td>n</td>\n",
       "      <td>car1</td>\n",
       "      <td>100.0</td>\n",
       "      <td>80.0</td>\n",
       "      <td>0.486</td>\n",
       "      <td>...</td>\n",
       "      <td>0.251</td>\n",
       "      <td>MIL is OFF0 codes</td>\n",
       "      <td>NaN</td>\n",
       "      <td>0.569</td>\n",
       "      <td>0.01</td>\n",
       "      <td>13.0</td>\n",
       "      <td>16.0</td>\n",
       "      <td>2.0</td>\n",
       "      <td>8.0</td>\n",
       "      <td>2017.0</td>\n",
       "    </tr>\n",
       "    <tr>\n",
       "      <th>1</th>\n",
       "      <td>1502902512283</td>\n",
       "      <td>chevrolet</td>\n",
       "      <td>agile</td>\n",
       "      <td>2011.0</td>\n",
       "      <td>1.4</td>\n",
       "      <td>n</td>\n",
       "      <td>car1</td>\n",
       "      <td>100.0</td>\n",
       "      <td>80.0</td>\n",
       "      <td>0.486</td>\n",
       "      <td>...</td>\n",
       "      <td>0.251</td>\n",
       "      <td>MIL is OFF0 codes</td>\n",
       "      <td>NaN</td>\n",
       "      <td>0.565</td>\n",
       "      <td>0.01</td>\n",
       "      <td>13.0</td>\n",
       "      <td>16.0</td>\n",
       "      <td>2.0</td>\n",
       "      <td>8.0</td>\n",
       "      <td>2017.0</td>\n",
       "    </tr>\n",
       "    <tr>\n",
       "      <th>2</th>\n",
       "      <td>1502902520291</td>\n",
       "      <td>chevrolet</td>\n",
       "      <td>agile</td>\n",
       "      <td>2011.0</td>\n",
       "      <td>1.4</td>\n",
       "      <td>n</td>\n",
       "      <td>car1</td>\n",
       "      <td>100.0</td>\n",
       "      <td>80.0</td>\n",
       "      <td>0.486</td>\n",
       "      <td>...</td>\n",
       "      <td>0.251</td>\n",
       "      <td>MIL is OFF0 codes</td>\n",
       "      <td>NaN</td>\n",
       "      <td>0.573</td>\n",
       "      <td>0.01</td>\n",
       "      <td>13.0</td>\n",
       "      <td>16.0</td>\n",
       "      <td>2.0</td>\n",
       "      <td>8.0</td>\n",
       "      <td>2017.0</td>\n",
       "    </tr>\n",
       "    <tr>\n",
       "      <th>3</th>\n",
       "      <td>1502902528300</td>\n",
       "      <td>chevrolet</td>\n",
       "      <td>agile</td>\n",
       "      <td>2011.0</td>\n",
       "      <td>1.4</td>\n",
       "      <td>n</td>\n",
       "      <td>car1</td>\n",
       "      <td>100.0</td>\n",
       "      <td>80.0</td>\n",
       "      <td>0.486</td>\n",
       "      <td>...</td>\n",
       "      <td>0.251</td>\n",
       "      <td>MIL is OFF0 codes</td>\n",
       "      <td>NaN</td>\n",
       "      <td>0.565</td>\n",
       "      <td>0.01</td>\n",
       "      <td>13.0</td>\n",
       "      <td>16.0</td>\n",
       "      <td>2.0</td>\n",
       "      <td>8.0</td>\n",
       "      <td>2017.0</td>\n",
       "    </tr>\n",
       "    <tr>\n",
       "      <th>4</th>\n",
       "      <td>1502902536320</td>\n",
       "      <td>chevrolet</td>\n",
       "      <td>agile</td>\n",
       "      <td>2011.0</td>\n",
       "      <td>1.4</td>\n",
       "      <td>n</td>\n",
       "      <td>car1</td>\n",
       "      <td>100.0</td>\n",
       "      <td>80.0</td>\n",
       "      <td>0.486</td>\n",
       "      <td>...</td>\n",
       "      <td>0.251</td>\n",
       "      <td>MIL is OFF0 codes</td>\n",
       "      <td>NaN</td>\n",
       "      <td>0.569</td>\n",
       "      <td>0.01</td>\n",
       "      <td>13.0</td>\n",
       "      <td>16.0</td>\n",
       "      <td>2.0</td>\n",
       "      <td>8.0</td>\n",
       "      <td>2017.0</td>\n",
       "    </tr>\n",
       "  </tbody>\n",
       "</table>\n",
       "<p>5 rows × 33 columns</p>\n",
       "</div>"
      ],
      "text/plain": [
       "       TIMESTAMP       MARK  MODEL  CAR_YEAR  ENGINE_POWER AUTOMATIC  \\\n",
       "0  1502902504267  chevrolet  agile    2011.0           1.4         n   \n",
       "1  1502902512283  chevrolet  agile    2011.0           1.4         n   \n",
       "2  1502902520291  chevrolet  agile    2011.0           1.4         n   \n",
       "3  1502902528300  chevrolet  agile    2011.0           1.4         n   \n",
       "4  1502902536320  chevrolet  agile    2011.0           1.4         n   \n",
       "\n",
       "  VEHICLE_ID  BAROMETRIC_PRESSURE(KPA)  ENGINE_COOLANT_TEMP  FUEL_LEVEL  ...  \\\n",
       "0       car1                     100.0                 80.0       0.486  ...   \n",
       "1       car1                     100.0                 80.0       0.486  ...   \n",
       "2       car1                     100.0                 80.0       0.486  ...   \n",
       "3       car1                     100.0                 80.0       0.486  ...   \n",
       "4       car1                     100.0                 80.0       0.486  ...   \n",
       "\n",
       "   THROTTLE_POS         DTC_NUMBER  TROUBLE_CODES  TIMING_ADVANCE  \\\n",
       "0         0.251  MIL is OFF0 codes            NaN           0.569   \n",
       "1         0.251  MIL is OFF0 codes            NaN           0.565   \n",
       "2         0.251  MIL is OFF0 codes            NaN           0.573   \n",
       "3         0.251  MIL is OFF0 codes            NaN           0.565   \n",
       "4         0.251  MIL is OFF0 codes            NaN           0.569   \n",
       "\n",
       "   EQUIV_RATIO   MIN HOURS  DAYS_OF_WEEK  MONTHS    YEAR  \n",
       "0         0.01  13.0  16.0           2.0     8.0  2017.0  \n",
       "1         0.01  13.0  16.0           2.0     8.0  2017.0  \n",
       "2         0.01  13.0  16.0           2.0     8.0  2017.0  \n",
       "3         0.01  13.0  16.0           2.0     8.0  2017.0  \n",
       "4         0.01  13.0  16.0           2.0     8.0  2017.0  \n",
       "\n",
       "[5 rows x 33 columns]"
      ]
     },
     "execution_count": 4,
     "metadata": {},
     "output_type": "execute_result"
    }
   ],
   "source": [
    "df1.head()"
   ]
  },
  {
   "cell_type": "code",
   "execution_count": 5,
   "metadata": {},
   "outputs": [
    {
     "data": {
      "text/plain": [
       "TIMESTAMP                          0\n",
       "MARK                              55\n",
       "MODEL                             55\n",
       "CAR_YEAR                          55\n",
       "ENGINE_POWER                      55\n",
       "AUTOMATIC                         55\n",
       "VEHICLE_ID                         0\n",
       "BAROMETRIC_PRESSURE(KPA)       37302\n",
       "ENGINE_COOLANT_TEMP            13550\n",
       "FUEL_LEVEL                     44520\n",
       "ENGINE_LOAD                    16542\n",
       "AMBIENT_AIR_TEMP               43895\n",
       "ENGINE_RPM                     13655\n",
       "INTAKE_MANIFOLD_PRESSURE       22425\n",
       "MAF                            35686\n",
       "LONG TERM FUEL TRIM BANK 2     34444\n",
       "FUEL_TYPE                      27509\n",
       "AIR_INTAKE_TEMP                13162\n",
       "FUEL_PRESSURE                  47376\n",
       "SPEED                            985\n",
       "SHORT TERM FUEL TRIM BANK 2    34444\n",
       "SHORT TERM FUEL TRIM BANK 1     9919\n",
       "ENGINE_RUNTIME                 35612\n",
       "THROTTLE_POS                   13655\n",
       "DTC_NUMBER                       372\n",
       "TROUBLE_CODES                  35589\n",
       "TIMING_ADVANCE                 13352\n",
       "EQUIV_RATIO                    35618\n",
       "MIN                                2\n",
       "HOURS                              2\n",
       "DAYS_OF_WEEK                       2\n",
       "MONTHS                             2\n",
       "YEAR                               2\n",
       "dtype: int64"
      ]
     },
     "execution_count": 5,
     "metadata": {},
     "output_type": "execute_result"
    }
   ],
   "source": [
    "df1.isnull().sum()"
   ]
  },
  {
   "cell_type": "code",
   "execution_count": 6,
   "metadata": {},
   "outputs": [],
   "source": [
    "df1.drop(df1.columns.difference(['ENGINE_POWER','BAROMETRIC_PRESSURE(KPA)','ENGINE_COOLANT_TEMP','FUEL_LEVEL','FUEL_PRESSURE','FUEL_TYPE', 'ENGINE_LOAD','ENGINE_RPM','INTAKE_MANIFOLD_PRESSURE','MAF','SPEED','THROTTLE_POS','LONG TERM FUEL TRIM BANK 2']), 1, inplace=True)"
   ]
  },
  {
   "cell_type": "code",
   "execution_count": 7,
   "metadata": {},
   "outputs": [
    {
     "data": {
      "text/html": [
       "<div>\n",
       "<style scoped>\n",
       "    .dataframe tbody tr th:only-of-type {\n",
       "        vertical-align: middle;\n",
       "    }\n",
       "\n",
       "    .dataframe tbody tr th {\n",
       "        vertical-align: top;\n",
       "    }\n",
       "\n",
       "    .dataframe thead th {\n",
       "        text-align: right;\n",
       "    }\n",
       "</style>\n",
       "<table border=\"1\" class=\"dataframe\">\n",
       "  <thead>\n",
       "    <tr style=\"text-align: right;\">\n",
       "      <th></th>\n",
       "      <th>ENGINE_POWER</th>\n",
       "      <th>BAROMETRIC_PRESSURE(KPA)</th>\n",
       "      <th>ENGINE_COOLANT_TEMP</th>\n",
       "      <th>FUEL_LEVEL</th>\n",
       "      <th>ENGINE_LOAD</th>\n",
       "      <th>ENGINE_RPM</th>\n",
       "      <th>INTAKE_MANIFOLD_PRESSURE</th>\n",
       "      <th>MAF</th>\n",
       "      <th>LONG TERM FUEL TRIM BANK 2</th>\n",
       "      <th>FUEL_TYPE</th>\n",
       "      <th>FUEL_PRESSURE</th>\n",
       "      <th>SPEED</th>\n",
       "      <th>THROTTLE_POS</th>\n",
       "    </tr>\n",
       "  </thead>\n",
       "  <tbody>\n",
       "    <tr>\n",
       "      <th>0</th>\n",
       "      <td>1.4</td>\n",
       "      <td>100.0</td>\n",
       "      <td>80.0</td>\n",
       "      <td>0.486</td>\n",
       "      <td>0.333</td>\n",
       "      <td>1009.0</td>\n",
       "      <td>49.0</td>\n",
       "      <td>4.49</td>\n",
       "      <td>NaN</td>\n",
       "      <td>Biodiesel_Ethanol</td>\n",
       "      <td>NaN</td>\n",
       "      <td>0.0</td>\n",
       "      <td>0.251</td>\n",
       "    </tr>\n",
       "    <tr>\n",
       "      <th>1</th>\n",
       "      <td>1.4</td>\n",
       "      <td>100.0</td>\n",
       "      <td>80.0</td>\n",
       "      <td>0.486</td>\n",
       "      <td>0.325</td>\n",
       "      <td>1003.0</td>\n",
       "      <td>52.0</td>\n",
       "      <td>4.51</td>\n",
       "      <td>NaN</td>\n",
       "      <td>Biodiesel_Ethanol</td>\n",
       "      <td>NaN</td>\n",
       "      <td>0.0</td>\n",
       "      <td>0.251</td>\n",
       "    </tr>\n",
       "    <tr>\n",
       "      <th>2</th>\n",
       "      <td>1.4</td>\n",
       "      <td>100.0</td>\n",
       "      <td>80.0</td>\n",
       "      <td>0.486</td>\n",
       "      <td>0.329</td>\n",
       "      <td>995.0</td>\n",
       "      <td>51.0</td>\n",
       "      <td>4.48</td>\n",
       "      <td>NaN</td>\n",
       "      <td>Biodiesel_Ethanol</td>\n",
       "      <td>NaN</td>\n",
       "      <td>0.0</td>\n",
       "      <td>0.251</td>\n",
       "    </tr>\n",
       "    <tr>\n",
       "      <th>3</th>\n",
       "      <td>1.4</td>\n",
       "      <td>100.0</td>\n",
       "      <td>80.0</td>\n",
       "      <td>0.486</td>\n",
       "      <td>0.325</td>\n",
       "      <td>1004.0</td>\n",
       "      <td>51.0</td>\n",
       "      <td>4.51</td>\n",
       "      <td>NaN</td>\n",
       "      <td>Biodiesel_Ethanol</td>\n",
       "      <td>NaN</td>\n",
       "      <td>0.0</td>\n",
       "      <td>0.251</td>\n",
       "    </tr>\n",
       "    <tr>\n",
       "      <th>4</th>\n",
       "      <td>1.4</td>\n",
       "      <td>100.0</td>\n",
       "      <td>80.0</td>\n",
       "      <td>0.486</td>\n",
       "      <td>0.329</td>\n",
       "      <td>1005.0</td>\n",
       "      <td>49.0</td>\n",
       "      <td>4.49</td>\n",
       "      <td>NaN</td>\n",
       "      <td>Biodiesel_Ethanol</td>\n",
       "      <td>NaN</td>\n",
       "      <td>0.0</td>\n",
       "      <td>0.251</td>\n",
       "    </tr>\n",
       "  </tbody>\n",
       "</table>\n",
       "</div>"
      ],
      "text/plain": [
       "   ENGINE_POWER  BAROMETRIC_PRESSURE(KPA)  ENGINE_COOLANT_TEMP  FUEL_LEVEL  \\\n",
       "0           1.4                     100.0                 80.0       0.486   \n",
       "1           1.4                     100.0                 80.0       0.486   \n",
       "2           1.4                     100.0                 80.0       0.486   \n",
       "3           1.4                     100.0                 80.0       0.486   \n",
       "4           1.4                     100.0                 80.0       0.486   \n",
       "\n",
       "   ENGINE_LOAD  ENGINE_RPM  INTAKE_MANIFOLD_PRESSURE   MAF  \\\n",
       "0        0.333      1009.0                      49.0  4.49   \n",
       "1        0.325      1003.0                      52.0  4.51   \n",
       "2        0.329       995.0                      51.0  4.48   \n",
       "3        0.325      1004.0                      51.0  4.51   \n",
       "4        0.329      1005.0                      49.0  4.49   \n",
       "\n",
       "   LONG TERM FUEL TRIM BANK 2          FUEL_TYPE  FUEL_PRESSURE  SPEED  \\\n",
       "0                         NaN  Biodiesel_Ethanol            NaN    0.0   \n",
       "1                         NaN  Biodiesel_Ethanol            NaN    0.0   \n",
       "2                         NaN  Biodiesel_Ethanol            NaN    0.0   \n",
       "3                         NaN  Biodiesel_Ethanol            NaN    0.0   \n",
       "4                         NaN  Biodiesel_Ethanol            NaN    0.0   \n",
       "\n",
       "   THROTTLE_POS  \n",
       "0         0.251  \n",
       "1         0.251  \n",
       "2         0.251  \n",
       "3         0.251  \n",
       "4         0.251  "
      ]
     },
     "execution_count": 7,
     "metadata": {},
     "output_type": "execute_result"
    }
   ],
   "source": [
    "df1.head()"
   ]
  },
  {
   "cell_type": "code",
   "execution_count": 8,
   "metadata": {},
   "outputs": [
    {
     "data": {
      "text/plain": [
       "Index(['ENGINE_POWER', 'BAROMETRIC_PRESSURE(KPA)', 'ENGINE_COOLANT_TEMP',\n",
       "       'FUEL_LEVEL', 'ENGINE_LOAD', 'ENGINE_RPM', 'INTAKE_MANIFOLD_PRESSURE',\n",
       "       'MAF', 'LONG TERM FUEL TRIM BANK 2', 'FUEL_TYPE', 'FUEL_PRESSURE',\n",
       "       'SPEED', 'THROTTLE_POS'],\n",
       "      dtype='object')"
      ]
     },
     "execution_count": 8,
     "metadata": {},
     "output_type": "execute_result"
    }
   ],
   "source": [
    "df1.columns"
   ]
  },
  {
   "cell_type": "code",
   "execution_count": 9,
   "metadata": {},
   "outputs": [
    {
     "data": {
      "text/plain": [
       "ENGINE_POWER                     55\n",
       "BAROMETRIC_PRESSURE(KPA)      37302\n",
       "ENGINE_COOLANT_TEMP           13550\n",
       "FUEL_LEVEL                    44520\n",
       "ENGINE_LOAD                   16542\n",
       "ENGINE_RPM                    13655\n",
       "INTAKE_MANIFOLD_PRESSURE      22425\n",
       "MAF                           35686\n",
       "LONG TERM FUEL TRIM BANK 2    34444\n",
       "FUEL_TYPE                     27509\n",
       "FUEL_PRESSURE                 47376\n",
       "SPEED                           985\n",
       "THROTTLE_POS                  13655\n",
       "dtype: int64"
      ]
     },
     "execution_count": 9,
     "metadata": {},
     "output_type": "execute_result"
    }
   ],
   "source": [
    "df1.isnull().sum()"
   ]
  },
  {
   "cell_type": "code",
   "execution_count": 10,
   "metadata": {},
   "outputs": [],
   "source": [
    "# function for the percentage of the null values\n",
    "def assess_NA(data):\n",
    "  \n",
    "    # pandas series denoting features and the sum of their null values\n",
    "    null_sum = data.isnull().sum()# instantiate columns for missing data\n",
    "    total = null_sum.sort_values(ascending=False)\n",
    "    percent = ( ((null_sum / len(data.index))*100).round(2) ).sort_values(ascending=False)\n",
    "    \n",
    "    # concatenate along the columns to create the complete dataframe\n",
    "    df_NA = pd.concat([total, percent], axis=1, keys=['Number of NA', 'Percent NA'])\n",
    "    \n",
    "    # drop rows that don't have any missing data; omit if you want to keep all rows\n",
    "    df_NA = df_NA[ (df_NA.T != 0).any() ]\n",
    "    \n",
    "    return df_NA"
   ]
  },
  {
   "cell_type": "code",
   "execution_count": 11,
   "metadata": {},
   "outputs": [
    {
     "data": {
      "text/html": [
       "<div>\n",
       "<style scoped>\n",
       "    .dataframe tbody tr th:only-of-type {\n",
       "        vertical-align: middle;\n",
       "    }\n",
       "\n",
       "    .dataframe tbody tr th {\n",
       "        vertical-align: top;\n",
       "    }\n",
       "\n",
       "    .dataframe thead th {\n",
       "        text-align: right;\n",
       "    }\n",
       "</style>\n",
       "<table border=\"1\" class=\"dataframe\">\n",
       "  <thead>\n",
       "    <tr style=\"text-align: right;\">\n",
       "      <th></th>\n",
       "      <th>Number of NA</th>\n",
       "      <th>Percent NA</th>\n",
       "    </tr>\n",
       "  </thead>\n",
       "  <tbody>\n",
       "    <tr>\n",
       "      <th>FUEL_PRESSURE</th>\n",
       "      <td>47376</td>\n",
       "      <td>99.71</td>\n",
       "    </tr>\n",
       "    <tr>\n",
       "      <th>FUEL_LEVEL</th>\n",
       "      <td>44520</td>\n",
       "      <td>93.70</td>\n",
       "    </tr>\n",
       "    <tr>\n",
       "      <th>BAROMETRIC_PRESSURE(KPA)</th>\n",
       "      <td>37302</td>\n",
       "      <td>78.51</td>\n",
       "    </tr>\n",
       "    <tr>\n",
       "      <th>MAF</th>\n",
       "      <td>35686</td>\n",
       "      <td>75.11</td>\n",
       "    </tr>\n",
       "    <tr>\n",
       "      <th>LONG TERM FUEL TRIM BANK 2</th>\n",
       "      <td>34444</td>\n",
       "      <td>72.49</td>\n",
       "    </tr>\n",
       "    <tr>\n",
       "      <th>FUEL_TYPE</th>\n",
       "      <td>27509</td>\n",
       "      <td>57.90</td>\n",
       "    </tr>\n",
       "    <tr>\n",
       "      <th>INTAKE_MANIFOLD_PRESSURE</th>\n",
       "      <td>22425</td>\n",
       "      <td>47.20</td>\n",
       "    </tr>\n",
       "    <tr>\n",
       "      <th>ENGINE_LOAD</th>\n",
       "      <td>16542</td>\n",
       "      <td>34.82</td>\n",
       "    </tr>\n",
       "    <tr>\n",
       "      <th>THROTTLE_POS</th>\n",
       "      <td>13655</td>\n",
       "      <td>28.74</td>\n",
       "    </tr>\n",
       "    <tr>\n",
       "      <th>ENGINE_RPM</th>\n",
       "      <td>13655</td>\n",
       "      <td>28.74</td>\n",
       "    </tr>\n",
       "    <tr>\n",
       "      <th>ENGINE_COOLANT_TEMP</th>\n",
       "      <td>13550</td>\n",
       "      <td>28.52</td>\n",
       "    </tr>\n",
       "    <tr>\n",
       "      <th>SPEED</th>\n",
       "      <td>985</td>\n",
       "      <td>2.07</td>\n",
       "    </tr>\n",
       "    <tr>\n",
       "      <th>ENGINE_POWER</th>\n",
       "      <td>55</td>\n",
       "      <td>0.12</td>\n",
       "    </tr>\n",
       "  </tbody>\n",
       "</table>\n",
       "</div>"
      ],
      "text/plain": [
       "                            Number of NA  Percent NA\n",
       "FUEL_PRESSURE                      47376       99.71\n",
       "FUEL_LEVEL                         44520       93.70\n",
       "BAROMETRIC_PRESSURE(KPA)           37302       78.51\n",
       "MAF                                35686       75.11\n",
       "LONG TERM FUEL TRIM BANK 2         34444       72.49\n",
       "FUEL_TYPE                          27509       57.90\n",
       "INTAKE_MANIFOLD_PRESSURE           22425       47.20\n",
       "ENGINE_LOAD                        16542       34.82\n",
       "THROTTLE_POS                       13655       28.74\n",
       "ENGINE_RPM                         13655       28.74\n",
       "ENGINE_COOLANT_TEMP                13550       28.52\n",
       "SPEED                                985        2.07\n",
       "ENGINE_POWER                          55        0.12"
      ]
     },
     "execution_count": 11,
     "metadata": {},
     "output_type": "execute_result"
    }
   ],
   "source": [
    "assess_NA(df1)"
   ]
  },
  {
   "cell_type": "code",
   "execution_count": 12,
   "metadata": {},
   "outputs": [
    {
     "data": {
      "text/plain": [
       "Biodiesel_Ethanol     19867\n",
       "Biodiesel_Gasoline      138\n",
       "Name: FUEL_TYPE, dtype: int64"
      ]
     },
     "execution_count": 12,
     "metadata": {},
     "output_type": "execute_result"
    }
   ],
   "source": [
    "df1.FUEL_TYPE.value_counts()"
   ]
  },
  {
   "cell_type": "code",
   "execution_count": 13,
   "metadata": {},
   "outputs": [
    {
     "data": {
      "text/plain": [
       "ENGINE_POWER                  float64\n",
       "BAROMETRIC_PRESSURE(KPA)      float64\n",
       "ENGINE_COOLANT_TEMP           float64\n",
       "FUEL_LEVEL                    float64\n",
       "ENGINE_LOAD                   float64\n",
       "ENGINE_RPM                    float64\n",
       "INTAKE_MANIFOLD_PRESSURE      float64\n",
       "MAF                           float64\n",
       "LONG TERM FUEL TRIM BANK 2    float64\n",
       "FUEL_TYPE                      object\n",
       "FUEL_PRESSURE                 float64\n",
       "SPEED                         float64\n",
       "THROTTLE_POS                  float64\n",
       "dtype: object"
      ]
     },
     "execution_count": 13,
     "metadata": {},
     "output_type": "execute_result"
    }
   ],
   "source": [
    "df1.dtypes"
   ]
  },
  {
   "cell_type": "code",
   "execution_count": 14,
   "metadata": {},
   "outputs": [],
   "source": [
    "df1.drop(['FUEL_LEVEL','INTAKE_MANIFOLD_PRESSURE','MAF','FUEL_TYPE','LONG TERM FUEL TRIM BANK 2','FUEL_PRESSURE','BAROMETRIC_PRESSURE(KPA)'], axis=1, inplace=True)"
   ]
  },
  {
   "cell_type": "code",
   "execution_count": 15,
   "metadata": {},
   "outputs": [
    {
     "data": {
      "text/plain": [
       "(47514, 6)"
      ]
     },
     "execution_count": 15,
     "metadata": {},
     "output_type": "execute_result"
    }
   ],
   "source": [
    "df1.shape"
   ]
  },
  {
   "cell_type": "code",
   "execution_count": 16,
   "metadata": {},
   "outputs": [
    {
     "data": {
      "text/html": [
       "<div>\n",
       "<style scoped>\n",
       "    .dataframe tbody tr th:only-of-type {\n",
       "        vertical-align: middle;\n",
       "    }\n",
       "\n",
       "    .dataframe tbody tr th {\n",
       "        vertical-align: top;\n",
       "    }\n",
       "\n",
       "    .dataframe thead th {\n",
       "        text-align: right;\n",
       "    }\n",
       "</style>\n",
       "<table border=\"1\" class=\"dataframe\">\n",
       "  <thead>\n",
       "    <tr style=\"text-align: right;\">\n",
       "      <th></th>\n",
       "      <th>ENGINE_POWER</th>\n",
       "      <th>ENGINE_COOLANT_TEMP</th>\n",
       "      <th>ENGINE_LOAD</th>\n",
       "      <th>ENGINE_RPM</th>\n",
       "      <th>SPEED</th>\n",
       "      <th>THROTTLE_POS</th>\n",
       "    </tr>\n",
       "  </thead>\n",
       "  <tbody>\n",
       "    <tr>\n",
       "      <th>0</th>\n",
       "      <td>1.4</td>\n",
       "      <td>80.0</td>\n",
       "      <td>0.333</td>\n",
       "      <td>1009.0</td>\n",
       "      <td>0.0</td>\n",
       "      <td>0.251</td>\n",
       "    </tr>\n",
       "    <tr>\n",
       "      <th>1</th>\n",
       "      <td>1.4</td>\n",
       "      <td>80.0</td>\n",
       "      <td>0.325</td>\n",
       "      <td>1003.0</td>\n",
       "      <td>0.0</td>\n",
       "      <td>0.251</td>\n",
       "    </tr>\n",
       "    <tr>\n",
       "      <th>2</th>\n",
       "      <td>1.4</td>\n",
       "      <td>80.0</td>\n",
       "      <td>0.329</td>\n",
       "      <td>995.0</td>\n",
       "      <td>0.0</td>\n",
       "      <td>0.251</td>\n",
       "    </tr>\n",
       "    <tr>\n",
       "      <th>3</th>\n",
       "      <td>1.4</td>\n",
       "      <td>80.0</td>\n",
       "      <td>0.325</td>\n",
       "      <td>1004.0</td>\n",
       "      <td>0.0</td>\n",
       "      <td>0.251</td>\n",
       "    </tr>\n",
       "    <tr>\n",
       "      <th>4</th>\n",
       "      <td>1.4</td>\n",
       "      <td>80.0</td>\n",
       "      <td>0.329</td>\n",
       "      <td>1005.0</td>\n",
       "      <td>0.0</td>\n",
       "      <td>0.251</td>\n",
       "    </tr>\n",
       "  </tbody>\n",
       "</table>\n",
       "</div>"
      ],
      "text/plain": [
       "   ENGINE_POWER  ENGINE_COOLANT_TEMP  ENGINE_LOAD  ENGINE_RPM  SPEED  \\\n",
       "0           1.4                 80.0        0.333      1009.0    0.0   \n",
       "1           1.4                 80.0        0.325      1003.0    0.0   \n",
       "2           1.4                 80.0        0.329       995.0    0.0   \n",
       "3           1.4                 80.0        0.325      1004.0    0.0   \n",
       "4           1.4                 80.0        0.329      1005.0    0.0   \n",
       "\n",
       "   THROTTLE_POS  \n",
       "0         0.251  \n",
       "1         0.251  \n",
       "2         0.251  \n",
       "3         0.251  \n",
       "4         0.251  "
      ]
     },
     "execution_count": 16,
     "metadata": {},
     "output_type": "execute_result"
    }
   ],
   "source": [
    "df1.head()"
   ]
  },
  {
   "cell_type": "code",
   "execution_count": 17,
   "metadata": {},
   "outputs": [
    {
     "data": {
      "text/plain": [
       "(47514, 6)"
      ]
     },
     "execution_count": 17,
     "metadata": {},
     "output_type": "execute_result"
    }
   ],
   "source": [
    "df1.shape"
   ]
  },
  {
   "cell_type": "code",
   "execution_count": 18,
   "metadata": {},
   "outputs": [
    {
     "data": {
      "text/plain": [
       "ENGINE_POWER              55\n",
       "ENGINE_COOLANT_TEMP    13550\n",
       "ENGINE_LOAD            16542\n",
       "ENGINE_RPM             13655\n",
       "SPEED                    985\n",
       "THROTTLE_POS           13655\n",
       "dtype: int64"
      ]
     },
     "execution_count": 18,
     "metadata": {},
     "output_type": "execute_result"
    }
   ],
   "source": [
    "df1.isnull().sum()"
   ]
  },
  {
   "cell_type": "code",
   "execution_count": 19,
   "metadata": {},
   "outputs": [],
   "source": [
    "#threshold to drop which has 6 null values\n",
    "df2=df1.dropna(thresh=6)"
   ]
  },
  {
   "cell_type": "code",
   "execution_count": 20,
   "metadata": {},
   "outputs": [
    {
     "data": {
      "text/plain": [
       "(29157, 6)"
      ]
     },
     "execution_count": 20,
     "metadata": {},
     "output_type": "execute_result"
    }
   ],
   "source": [
    "df2.shape"
   ]
  },
  {
   "cell_type": "code",
   "execution_count": 21,
   "metadata": {},
   "outputs": [
    {
     "data": {
      "text/plain": [
       "ENGINE_POWER           0\n",
       "ENGINE_COOLANT_TEMP    0\n",
       "ENGINE_LOAD            0\n",
       "ENGINE_RPM             0\n",
       "SPEED                  0\n",
       "THROTTLE_POS           0\n",
       "dtype: int64"
      ]
     },
     "execution_count": 21,
     "metadata": {},
     "output_type": "execute_result"
    }
   ],
   "source": [
    "df2.isnull().sum()"
   ]
  },
  {
   "cell_type": "code",
   "execution_count": 22,
   "metadata": {},
   "outputs": [
    {
     "data": {
      "text/html": [
       "<div>\n",
       "<style scoped>\n",
       "    .dataframe tbody tr th:only-of-type {\n",
       "        vertical-align: middle;\n",
       "    }\n",
       "\n",
       "    .dataframe tbody tr th {\n",
       "        vertical-align: top;\n",
       "    }\n",
       "\n",
       "    .dataframe thead th {\n",
       "        text-align: right;\n",
       "    }\n",
       "</style>\n",
       "<table border=\"1\" class=\"dataframe\">\n",
       "  <thead>\n",
       "    <tr style=\"text-align: right;\">\n",
       "      <th></th>\n",
       "      <th>ENGINE_POWER</th>\n",
       "      <th>ENGINE_COOLANT_TEMP</th>\n",
       "      <th>ENGINE_LOAD</th>\n",
       "      <th>ENGINE_RPM</th>\n",
       "      <th>SPEED</th>\n",
       "      <th>THROTTLE_POS</th>\n",
       "    </tr>\n",
       "  </thead>\n",
       "  <tbody>\n",
       "    <tr>\n",
       "      <th>0</th>\n",
       "      <td>1.4</td>\n",
       "      <td>80.0</td>\n",
       "      <td>0.333</td>\n",
       "      <td>1009.0</td>\n",
       "      <td>0.0</td>\n",
       "      <td>0.251</td>\n",
       "    </tr>\n",
       "    <tr>\n",
       "      <th>1</th>\n",
       "      <td>1.4</td>\n",
       "      <td>80.0</td>\n",
       "      <td>0.325</td>\n",
       "      <td>1003.0</td>\n",
       "      <td>0.0</td>\n",
       "      <td>0.251</td>\n",
       "    </tr>\n",
       "    <tr>\n",
       "      <th>2</th>\n",
       "      <td>1.4</td>\n",
       "      <td>80.0</td>\n",
       "      <td>0.329</td>\n",
       "      <td>995.0</td>\n",
       "      <td>0.0</td>\n",
       "      <td>0.251</td>\n",
       "    </tr>\n",
       "    <tr>\n",
       "      <th>3</th>\n",
       "      <td>1.4</td>\n",
       "      <td>80.0</td>\n",
       "      <td>0.325</td>\n",
       "      <td>1004.0</td>\n",
       "      <td>0.0</td>\n",
       "      <td>0.251</td>\n",
       "    </tr>\n",
       "    <tr>\n",
       "      <th>4</th>\n",
       "      <td>1.4</td>\n",
       "      <td>80.0</td>\n",
       "      <td>0.329</td>\n",
       "      <td>1005.0</td>\n",
       "      <td>0.0</td>\n",
       "      <td>0.251</td>\n",
       "    </tr>\n",
       "  </tbody>\n",
       "</table>\n",
       "</div>"
      ],
      "text/plain": [
       "   ENGINE_POWER  ENGINE_COOLANT_TEMP  ENGINE_LOAD  ENGINE_RPM  SPEED  \\\n",
       "0           1.4                 80.0        0.333      1009.0    0.0   \n",
       "1           1.4                 80.0        0.325      1003.0    0.0   \n",
       "2           1.4                 80.0        0.329       995.0    0.0   \n",
       "3           1.4                 80.0        0.325      1004.0    0.0   \n",
       "4           1.4                 80.0        0.329      1005.0    0.0   \n",
       "\n",
       "   THROTTLE_POS  \n",
       "0         0.251  \n",
       "1         0.251  \n",
       "2         0.251  \n",
       "3         0.251  \n",
       "4         0.251  "
      ]
     },
     "execution_count": 22,
     "metadata": {},
     "output_type": "execute_result"
    }
   ],
   "source": [
    "df2.head()"
   ]
  },
  {
   "cell_type": "code",
   "execution_count": 23,
   "metadata": {},
   "outputs": [],
   "source": [
    "#df1.reset_index(drop=True, inplace=True)"
   ]
  },
  {
   "cell_type": "code",
   "execution_count": 24,
   "metadata": {},
   "outputs": [
    {
     "data": {
      "text/plain": [
       "ENGINE_POWER           float64\n",
       "ENGINE_COOLANT_TEMP    float64\n",
       "ENGINE_LOAD            float64\n",
       "ENGINE_RPM             float64\n",
       "SPEED                  float64\n",
       "THROTTLE_POS           float64\n",
       "dtype: object"
      ]
     },
     "execution_count": 24,
     "metadata": {},
     "output_type": "execute_result"
    }
   ],
   "source": [
    "df2.dtypes"
   ]
  },
  {
   "cell_type": "code",
   "execution_count": 25,
   "metadata": {},
   "outputs": [],
   "source": [
    "from sklearn.preprocessing import StandardScaler\n"
   ]
  },
  {
   "cell_type": "code",
   "execution_count": 26,
   "metadata": {},
   "outputs": [
    {
     "data": {
      "text/plain": [
       "Index(['ENGINE_POWER', 'ENGINE_COOLANT_TEMP', 'ENGINE_LOAD', 'ENGINE_RPM',\n",
       "       'SPEED', 'THROTTLE_POS'],\n",
       "      dtype='object')"
      ]
     },
     "execution_count": 26,
     "metadata": {},
     "output_type": "execute_result"
    }
   ],
   "source": [
    "df2.columns"
   ]
  },
  {
   "cell_type": "code",
   "execution_count": 27,
   "metadata": {},
   "outputs": [],
   "source": [
    "#features = ['ENGINE_POWER', 'ENGINE_COOLANT_TEMP', 'ENGINE_LOAD', 'ENGINE_RPM',\n",
    "     #  'SPEED', 'THROTTLE_POS']\n",
    "#autoscaler = StandardScaler()\n",
    "#df2[features] = autoscaler.fit_transform(df2[features])"
   ]
  },
  {
   "cell_type": "code",
   "execution_count": 28,
   "metadata": {},
   "outputs": [
    {
     "data": {
      "text/html": [
       "<div>\n",
       "<style scoped>\n",
       "    .dataframe tbody tr th:only-of-type {\n",
       "        vertical-align: middle;\n",
       "    }\n",
       "\n",
       "    .dataframe tbody tr th {\n",
       "        vertical-align: top;\n",
       "    }\n",
       "\n",
       "    .dataframe thead th {\n",
       "        text-align: right;\n",
       "    }\n",
       "</style>\n",
       "<table border=\"1\" class=\"dataframe\">\n",
       "  <thead>\n",
       "    <tr style=\"text-align: right;\">\n",
       "      <th></th>\n",
       "      <th>ENGINE_POWER</th>\n",
       "      <th>ENGINE_COOLANT_TEMP</th>\n",
       "      <th>ENGINE_LOAD</th>\n",
       "      <th>ENGINE_RPM</th>\n",
       "      <th>SPEED</th>\n",
       "      <th>THROTTLE_POS</th>\n",
       "    </tr>\n",
       "  </thead>\n",
       "  <tbody>\n",
       "    <tr>\n",
       "      <th>0</th>\n",
       "      <td>1.4</td>\n",
       "      <td>80.0</td>\n",
       "      <td>0.333</td>\n",
       "      <td>1009.0</td>\n",
       "      <td>0.0</td>\n",
       "      <td>0.251</td>\n",
       "    </tr>\n",
       "    <tr>\n",
       "      <th>1</th>\n",
       "      <td>1.4</td>\n",
       "      <td>80.0</td>\n",
       "      <td>0.325</td>\n",
       "      <td>1003.0</td>\n",
       "      <td>0.0</td>\n",
       "      <td>0.251</td>\n",
       "    </tr>\n",
       "    <tr>\n",
       "      <th>2</th>\n",
       "      <td>1.4</td>\n",
       "      <td>80.0</td>\n",
       "      <td>0.329</td>\n",
       "      <td>995.0</td>\n",
       "      <td>0.0</td>\n",
       "      <td>0.251</td>\n",
       "    </tr>\n",
       "    <tr>\n",
       "      <th>3</th>\n",
       "      <td>1.4</td>\n",
       "      <td>80.0</td>\n",
       "      <td>0.325</td>\n",
       "      <td>1004.0</td>\n",
       "      <td>0.0</td>\n",
       "      <td>0.251</td>\n",
       "    </tr>\n",
       "    <tr>\n",
       "      <th>4</th>\n",
       "      <td>1.4</td>\n",
       "      <td>80.0</td>\n",
       "      <td>0.329</td>\n",
       "      <td>1005.0</td>\n",
       "      <td>0.0</td>\n",
       "      <td>0.251</td>\n",
       "    </tr>\n",
       "  </tbody>\n",
       "</table>\n",
       "</div>"
      ],
      "text/plain": [
       "   ENGINE_POWER  ENGINE_COOLANT_TEMP  ENGINE_LOAD  ENGINE_RPM  SPEED  \\\n",
       "0           1.4                 80.0        0.333      1009.0    0.0   \n",
       "1           1.4                 80.0        0.325      1003.0    0.0   \n",
       "2           1.4                 80.0        0.329       995.0    0.0   \n",
       "3           1.4                 80.0        0.325      1004.0    0.0   \n",
       "4           1.4                 80.0        0.329      1005.0    0.0   \n",
       "\n",
       "   THROTTLE_POS  \n",
       "0         0.251  \n",
       "1         0.251  \n",
       "2         0.251  \n",
       "3         0.251  \n",
       "4         0.251  "
      ]
     },
     "execution_count": 28,
     "metadata": {},
     "output_type": "execute_result"
    }
   ],
   "source": [
    "df2.head()"
   ]
  },
  {
   "cell_type": "code",
   "execution_count": 29,
   "metadata": {},
   "outputs": [
    {
     "data": {
      "text/html": [
       "<div>\n",
       "<style scoped>\n",
       "    .dataframe tbody tr th:only-of-type {\n",
       "        vertical-align: middle;\n",
       "    }\n",
       "\n",
       "    .dataframe tbody tr th {\n",
       "        vertical-align: top;\n",
       "    }\n",
       "\n",
       "    .dataframe thead th {\n",
       "        text-align: right;\n",
       "    }\n",
       "</style>\n",
       "<table border=\"1\" class=\"dataframe\">\n",
       "  <thead>\n",
       "    <tr style=\"text-align: right;\">\n",
       "      <th></th>\n",
       "      <th>ENGINE_POWER</th>\n",
       "      <th>ENGINE_COOLANT_TEMP</th>\n",
       "      <th>ENGINE_LOAD</th>\n",
       "      <th>ENGINE_RPM</th>\n",
       "      <th>SPEED</th>\n",
       "      <th>THROTTLE_POS</th>\n",
       "    </tr>\n",
       "  </thead>\n",
       "  <tbody>\n",
       "    <tr>\n",
       "      <th>47497</th>\n",
       "      <td>1.6</td>\n",
       "      <td>99.0</td>\n",
       "      <td>0.059</td>\n",
       "      <td>1029.0</td>\n",
       "      <td>50.0</td>\n",
       "      <td>0.047</td>\n",
       "    </tr>\n",
       "    <tr>\n",
       "      <th>47499</th>\n",
       "      <td>1.6</td>\n",
       "      <td>94.0</td>\n",
       "      <td>0.412</td>\n",
       "      <td>2054.0</td>\n",
       "      <td>32.0</td>\n",
       "      <td>0.063</td>\n",
       "    </tr>\n",
       "    <tr>\n",
       "      <th>47504</th>\n",
       "      <td>1.6</td>\n",
       "      <td>94.0</td>\n",
       "      <td>0.196</td>\n",
       "      <td>1185.0</td>\n",
       "      <td>38.0</td>\n",
       "      <td>0.173</td>\n",
       "    </tr>\n",
       "    <tr>\n",
       "      <th>47505</th>\n",
       "      <td>1.6</td>\n",
       "      <td>96.0</td>\n",
       "      <td>0.251</td>\n",
       "      <td>1325.0</td>\n",
       "      <td>45.0</td>\n",
       "      <td>0.149</td>\n",
       "    </tr>\n",
       "    <tr>\n",
       "      <th>47512</th>\n",
       "      <td>1.6</td>\n",
       "      <td>99.0</td>\n",
       "      <td>0.055</td>\n",
       "      <td>769.0</td>\n",
       "      <td>0.0</td>\n",
       "      <td>0.082</td>\n",
       "    </tr>\n",
       "  </tbody>\n",
       "</table>\n",
       "</div>"
      ],
      "text/plain": [
       "       ENGINE_POWER  ENGINE_COOLANT_TEMP  ENGINE_LOAD  ENGINE_RPM  SPEED  \\\n",
       "47497           1.6                 99.0        0.059      1029.0   50.0   \n",
       "47499           1.6                 94.0        0.412      2054.0   32.0   \n",
       "47504           1.6                 94.0        0.196      1185.0   38.0   \n",
       "47505           1.6                 96.0        0.251      1325.0   45.0   \n",
       "47512           1.6                 99.0        0.055       769.0    0.0   \n",
       "\n",
       "       THROTTLE_POS  \n",
       "47497         0.047  \n",
       "47499         0.063  \n",
       "47504         0.173  \n",
       "47505         0.149  \n",
       "47512         0.082  "
      ]
     },
     "execution_count": 29,
     "metadata": {},
     "output_type": "execute_result"
    }
   ],
   "source": [
    "df2.tail()"
   ]
  },
  {
   "cell_type": "code",
   "execution_count": 30,
   "metadata": {},
   "outputs": [
    {
     "data": {
      "image/png": "[encoded data removed]",
      "text/plain": [
       "<Figure size 720x576 with 1 Axes>"
      ]
     },
     "metadata": {
      "needs_background": "light"
     },
     "output_type": "display_data"
    }
   ],
   "source": [
    "#optimum number of clusters using elbow curve\n",
    "from sklearn.cluster import KMeans\n",
    "\n",
    "wcss = []\n",
    "\n",
    "for i in range(1, 10):\n",
    "    \n",
    "    kmeans = KMeans(n_clusters = i, init = 'k-means++', random_state = 40)\n",
    "    kmeans.fit(df2)\n",
    "    \n",
    "    wcss.append(kmeans.inertia_)\n",
    "\n",
    "plt.figure(figsize=(10, 8))\n",
    "plt.plot(range(1, 10), wcss)\n",
    "plt.title('The Elbow Method')\n",
    "plt.xlabel('Number of clusters')\n",
    "plt.ylabel('WCSS')\n",
    "plt.show()"
   ]
  },
  {
   "cell_type": "code",
   "execution_count": 31,
   "metadata": {},
   "outputs": [
    {
     "data": {
      "text/plain": [
       "KMeans(n_clusters=5, random_state=123)"
      ]
     },
     "execution_count": 31,
     "metadata": {},
     "output_type": "execute_result"
    }
   ],
   "source": [
    "kmeans = KMeans(n_clusters = 5, init = 'k-means++', random_state = 123)\n",
    "\n",
    "kmeans.fit(df2)"
   ]
  },
  {
   "cell_type": "code",
   "execution_count": 32,
   "metadata": {},
   "outputs": [
    {
     "data": {
      "text/plain": [
       "array([1, 1, 1, ..., 4, 4, 1], dtype=int32)"
      ]
     },
     "execution_count": 32,
     "metadata": {},
     "output_type": "execute_result"
    }
   ],
   "source": [
    "identified_clusters = kmeans.fit_predict(df2)\n",
    "identified_clusters"
   ]
  },
  {
   "cell_type": "code",
   "execution_count": 33,
   "metadata": {},
   "outputs": [
    {
     "name": "stdout",
     "output_type": "stream",
     "text": [
      "[[   0 5139]\n",
      " [   1 8453]\n",
      " [   2 7360]\n",
      " [   3 1978]\n",
      " [   4 6227]]\n"
     ]
    }
   ],
   "source": [
    "#to know value counts in array\n",
    "import numpy as np\n",
    "\n",
    "\n",
    "unique, counts = np.unique(identified_clusters, return_counts=True)\n",
    "\n",
    "print (np.asarray((unique, counts)).T)"
   ]
  },
  {
   "cell_type": "code",
   "execution_count": 34,
   "metadata": {},
   "outputs": [],
   "source": [
    "from kmodes.kprototypes import KPrototypes\n",
    "from sklearn.metrics import davies_bouldin_score"
   ]
  },
  {
   "cell_type": "code",
   "execution_count": 35,
   "metadata": {},
   "outputs": [
    {
     "data": {
      "text/plain": [
       "0.5136684917535372"
      ]
     },
     "execution_count": 35,
     "metadata": {},
     "output_type": "execute_result"
    }
   ],
   "source": [
    "labels = kmeans.labels_\n",
    "davies_bouldin_score(df2, labels)"
   ]
  },
  {
   "cell_type": "code",
   "execution_count": 36,
   "metadata": {},
   "outputs": [
    {
     "name": "stderr",
     "output_type": "stream",
     "text": [
      "/Applications/anaconda3/lib/python3.7/site-packages/ipykernel_launcher.py:1: SettingWithCopyWarning: \n",
      "A value is trying to be set on a copy of a slice from a DataFrame.\n",
      "Try using .loc[row_indexer,col_indexer] = value instead\n",
      "\n",
      "See the caveats in the documentation: https://pandas.pydata.org/pandas-docs/stable/user_guide/indexing.html#returning-a-view-versus-a-copy\n",
      "  \"\"\"Entry point for launching an IPython kernel.\n"
     ]
    },
    {
     "data": {
      "text/plain": [
       "0        1\n",
       "1        1\n",
       "2        1\n",
       "3        1\n",
       "4        1\n",
       "        ..\n",
       "47497    1\n",
       "47499    0\n",
       "47504    4\n",
       "47505    4\n",
       "47512    1\n",
       "Name: Cluster, Length: 29157, dtype: int32"
      ]
     },
     "execution_count": 36,
     "metadata": {},
     "output_type": "execute_result"
    }
   ],
   "source": [
    "df2['Cluster'] = identified_clusters\n",
    "df2['Cluster']"
   ]
  },
  {
   "cell_type": "code",
   "execution_count": 37,
   "metadata": {},
   "outputs": [
    {
     "data": {
      "text/html": [
       "<div>\n",
       "<style scoped>\n",
       "    .dataframe tbody tr th:only-of-type {\n",
       "        vertical-align: middle;\n",
       "    }\n",
       "\n",
       "    .dataframe tbody tr th {\n",
       "        vertical-align: top;\n",
       "    }\n",
       "\n",
       "    .dataframe thead th {\n",
       "        text-align: right;\n",
       "    }\n",
       "</style>\n",
       "<table border=\"1\" class=\"dataframe\">\n",
       "  <thead>\n",
       "    <tr style=\"text-align: right;\">\n",
       "      <th></th>\n",
       "      <th>ENGINE_POWER</th>\n",
       "      <th>ENGINE_COOLANT_TEMP</th>\n",
       "      <th>ENGINE_LOAD</th>\n",
       "      <th>ENGINE_RPM</th>\n",
       "      <th>SPEED</th>\n",
       "      <th>THROTTLE_POS</th>\n",
       "      <th>Cluster</th>\n",
       "    </tr>\n",
       "  </thead>\n",
       "  <tbody>\n",
       "    <tr>\n",
       "      <th>0</th>\n",
       "      <td>1.4</td>\n",
       "      <td>80.0</td>\n",
       "      <td>0.333</td>\n",
       "      <td>1009.0</td>\n",
       "      <td>0.0</td>\n",
       "      <td>0.251</td>\n",
       "      <td>1</td>\n",
       "    </tr>\n",
       "    <tr>\n",
       "      <th>1</th>\n",
       "      <td>1.4</td>\n",
       "      <td>80.0</td>\n",
       "      <td>0.325</td>\n",
       "      <td>1003.0</td>\n",
       "      <td>0.0</td>\n",
       "      <td>0.251</td>\n",
       "      <td>1</td>\n",
       "    </tr>\n",
       "    <tr>\n",
       "      <th>2</th>\n",
       "      <td>1.4</td>\n",
       "      <td>80.0</td>\n",
       "      <td>0.329</td>\n",
       "      <td>995.0</td>\n",
       "      <td>0.0</td>\n",
       "      <td>0.251</td>\n",
       "      <td>1</td>\n",
       "    </tr>\n",
       "    <tr>\n",
       "      <th>3</th>\n",
       "      <td>1.4</td>\n",
       "      <td>80.0</td>\n",
       "      <td>0.325</td>\n",
       "      <td>1004.0</td>\n",
       "      <td>0.0</td>\n",
       "      <td>0.251</td>\n",
       "      <td>1</td>\n",
       "    </tr>\n",
       "    <tr>\n",
       "      <th>4</th>\n",
       "      <td>1.4</td>\n",
       "      <td>80.0</td>\n",
       "      <td>0.329</td>\n",
       "      <td>1005.0</td>\n",
       "      <td>0.0</td>\n",
       "      <td>0.251</td>\n",
       "      <td>1</td>\n",
       "    </tr>\n",
       "  </tbody>\n",
       "</table>\n",
       "</div>"
      ],
      "text/plain": [
       "   ENGINE_POWER  ENGINE_COOLANT_TEMP  ENGINE_LOAD  ENGINE_RPM  SPEED  \\\n",
       "0           1.4                 80.0        0.333      1009.0    0.0   \n",
       "1           1.4                 80.0        0.325      1003.0    0.0   \n",
       "2           1.4                 80.0        0.329       995.0    0.0   \n",
       "3           1.4                 80.0        0.325      1004.0    0.0   \n",
       "4           1.4                 80.0        0.329      1005.0    0.0   \n",
       "\n",
       "   THROTTLE_POS  Cluster  \n",
       "0         0.251        1  \n",
       "1         0.251        1  \n",
       "2         0.251        1  \n",
       "3         0.251        1  \n",
       "4         0.251        1  "
      ]
     },
     "execution_count": 37,
     "metadata": {},
     "output_type": "execute_result"
    }
   ],
   "source": [
    "df2.head()"
   ]
  },
  {
   "cell_type": "code",
   "execution_count": 38,
   "metadata": {},
   "outputs": [
    {
     "data": {
      "text/html": [
       "<div>\n",
       "<style scoped>\n",
       "    .dataframe tbody tr th:only-of-type {\n",
       "        vertical-align: middle;\n",
       "    }\n",
       "\n",
       "    .dataframe tbody tr th {\n",
       "        vertical-align: top;\n",
       "    }\n",
       "\n",
       "    .dataframe thead th {\n",
       "        text-align: right;\n",
       "    }\n",
       "</style>\n",
       "<table border=\"1\" class=\"dataframe\">\n",
       "  <thead>\n",
       "    <tr style=\"text-align: right;\">\n",
       "      <th></th>\n",
       "      <th>ENGINE_POWER</th>\n",
       "      <th>ENGINE_COOLANT_TEMP</th>\n",
       "      <th>ENGINE_LOAD</th>\n",
       "      <th>ENGINE_RPM</th>\n",
       "      <th>SPEED</th>\n",
       "      <th>THROTTLE_POS</th>\n",
       "      <th>Cluster</th>\n",
       "    </tr>\n",
       "  </thead>\n",
       "  <tbody>\n",
       "    <tr>\n",
       "      <th>47497</th>\n",
       "      <td>1.6</td>\n",
       "      <td>99.0</td>\n",
       "      <td>0.059</td>\n",
       "      <td>1029.0</td>\n",
       "      <td>50.0</td>\n",
       "      <td>0.047</td>\n",
       "      <td>1</td>\n",
       "    </tr>\n",
       "    <tr>\n",
       "      <th>47499</th>\n",
       "      <td>1.6</td>\n",
       "      <td>94.0</td>\n",
       "      <td>0.412</td>\n",
       "      <td>2054.0</td>\n",
       "      <td>32.0</td>\n",
       "      <td>0.063</td>\n",
       "      <td>0</td>\n",
       "    </tr>\n",
       "    <tr>\n",
       "      <th>47504</th>\n",
       "      <td>1.6</td>\n",
       "      <td>94.0</td>\n",
       "      <td>0.196</td>\n",
       "      <td>1185.0</td>\n",
       "      <td>38.0</td>\n",
       "      <td>0.173</td>\n",
       "      <td>4</td>\n",
       "    </tr>\n",
       "    <tr>\n",
       "      <th>47505</th>\n",
       "      <td>1.6</td>\n",
       "      <td>96.0</td>\n",
       "      <td>0.251</td>\n",
       "      <td>1325.0</td>\n",
       "      <td>45.0</td>\n",
       "      <td>0.149</td>\n",
       "      <td>4</td>\n",
       "    </tr>\n",
       "    <tr>\n",
       "      <th>47512</th>\n",
       "      <td>1.6</td>\n",
       "      <td>99.0</td>\n",
       "      <td>0.055</td>\n",
       "      <td>769.0</td>\n",
       "      <td>0.0</td>\n",
       "      <td>0.082</td>\n",
       "      <td>1</td>\n",
       "    </tr>\n",
       "  </tbody>\n",
       "</table>\n",
       "</div>"
      ],
      "text/plain": [
       "       ENGINE_POWER  ENGINE_COOLANT_TEMP  ENGINE_LOAD  ENGINE_RPM  SPEED  \\\n",
       "47497           1.6                 99.0        0.059      1029.0   50.0   \n",
       "47499           1.6                 94.0        0.412      2054.0   32.0   \n",
       "47504           1.6                 94.0        0.196      1185.0   38.0   \n",
       "47505           1.6                 96.0        0.251      1325.0   45.0   \n",
       "47512           1.6                 99.0        0.055       769.0    0.0   \n",
       "\n",
       "       THROTTLE_POS  Cluster  \n",
       "47497         0.047        1  \n",
       "47499         0.063        0  \n",
       "47504         0.173        4  \n",
       "47505         0.149        4  \n",
       "47512         0.082        1  "
      ]
     },
     "execution_count": 38,
     "metadata": {},
     "output_type": "execute_result"
    }
   ],
   "source": [
    "df2.tail()"
   ]
  },
  {
   "cell_type": "code",
   "execution_count": 39,
   "metadata": {},
   "outputs": [
    {
     "data": {
      "text/html": [
       "<div>\n",
       "<style scoped>\n",
       "    .dataframe tbody tr th:only-of-type {\n",
       "        vertical-align: middle;\n",
       "    }\n",
       "\n",
       "    .dataframe tbody tr th {\n",
       "        vertical-align: top;\n",
       "    }\n",
       "\n",
       "    .dataframe thead th {\n",
       "        text-align: right;\n",
       "    }\n",
       "</style>\n",
       "<table border=\"1\" class=\"dataframe\">\n",
       "  <thead>\n",
       "    <tr style=\"text-align: right;\">\n",
       "      <th></th>\n",
       "      <th>ENGINE_POWER</th>\n",
       "      <th>ENGINE_COOLANT_TEMP</th>\n",
       "      <th>ENGINE_LOAD</th>\n",
       "      <th>ENGINE_RPM</th>\n",
       "      <th>SPEED</th>\n",
       "      <th>THROTTLE_POS</th>\n",
       "      <th>Cluster</th>\n",
       "    </tr>\n",
       "  </thead>\n",
       "  <tbody>\n",
       "    <tr>\n",
       "      <th>count</th>\n",
       "      <td>29157.000000</td>\n",
       "      <td>29157.000000</td>\n",
       "      <td>29157.000000</td>\n",
       "      <td>29157.000000</td>\n",
       "      <td>29157.000000</td>\n",
       "      <td>29157.000000</td>\n",
       "      <td>29157.000000</td>\n",
       "    </tr>\n",
       "    <tr>\n",
       "      <th>mean</th>\n",
       "      <td>1.584848</td>\n",
       "      <td>81.144013</td>\n",
       "      <td>0.401463</td>\n",
       "      <td>1562.177830</td>\n",
       "      <td>36.750557</td>\n",
       "      <td>0.183191</td>\n",
       "      <td>1.852557</td>\n",
       "    </tr>\n",
       "    <tr>\n",
       "      <th>std</th>\n",
       "      <td>0.192476</td>\n",
       "      <td>10.465038</td>\n",
       "      <td>0.210639</td>\n",
       "      <td>611.785329</td>\n",
       "      <td>29.541443</td>\n",
       "      <td>0.090149</td>\n",
       "      <td>1.376721</td>\n",
       "    </tr>\n",
       "    <tr>\n",
       "      <th>min</th>\n",
       "      <td>1.000000</td>\n",
       "      <td>22.000000</td>\n",
       "      <td>0.051000</td>\n",
       "      <td>438.000000</td>\n",
       "      <td>0.000000</td>\n",
       "      <td>0.008000</td>\n",
       "      <td>0.000000</td>\n",
       "    </tr>\n",
       "    <tr>\n",
       "      <th>25%</th>\n",
       "      <td>1.600000</td>\n",
       "      <td>77.000000</td>\n",
       "      <td>0.255000</td>\n",
       "      <td>1001.000000</td>\n",
       "      <td>12.000000</td>\n",
       "      <td>0.125000</td>\n",
       "      <td>1.000000</td>\n",
       "    </tr>\n",
       "    <tr>\n",
       "      <th>50%</th>\n",
       "      <td>1.600000</td>\n",
       "      <td>84.000000</td>\n",
       "      <td>0.384000</td>\n",
       "      <td>1553.000000</td>\n",
       "      <td>33.000000</td>\n",
       "      <td>0.180000</td>\n",
       "      <td>2.000000</td>\n",
       "    </tr>\n",
       "    <tr>\n",
       "      <th>75%</th>\n",
       "      <td>1.600000</td>\n",
       "      <td>87.000000</td>\n",
       "      <td>0.490000</td>\n",
       "      <td>1991.000000</td>\n",
       "      <td>54.000000</td>\n",
       "      <td>0.239000</td>\n",
       "      <td>3.000000</td>\n",
       "    </tr>\n",
       "    <tr>\n",
       "      <th>max</th>\n",
       "      <td>1.800000</td>\n",
       "      <td>104.000000</td>\n",
       "      <td>1.000000</td>\n",
       "      <td>3816.000000</td>\n",
       "      <td>143.000000</td>\n",
       "      <td>0.871000</td>\n",
       "      <td>4.000000</td>\n",
       "    </tr>\n",
       "  </tbody>\n",
       "</table>\n",
       "</div>"
      ],
      "text/plain": [
       "       ENGINE_POWER  ENGINE_COOLANT_TEMP   ENGINE_LOAD    ENGINE_RPM  \\\n",
       "count  29157.000000         29157.000000  29157.000000  29157.000000   \n",
       "mean       1.584848            81.144013      0.401463   1562.177830   \n",
       "std        0.192476            10.465038      0.210639    611.785329   \n",
       "min        1.000000            22.000000      0.051000    438.000000   \n",
       "25%        1.600000            77.000000      0.255000   1001.000000   \n",
       "50%        1.600000            84.000000      0.384000   1553.000000   \n",
       "75%        1.600000            87.000000      0.490000   1991.000000   \n",
       "max        1.800000           104.000000      1.000000   3816.000000   \n",
       "\n",
       "              SPEED  THROTTLE_POS       Cluster  \n",
       "count  29157.000000  29157.000000  29157.000000  \n",
       "mean      36.750557      0.183191      1.852557  \n",
       "std       29.541443      0.090149      1.376721  \n",
       "min        0.000000      0.008000      0.000000  \n",
       "25%       12.000000      0.125000      1.000000  \n",
       "50%       33.000000      0.180000      2.000000  \n",
       "75%       54.000000      0.239000      3.000000  \n",
       "max      143.000000      0.871000      4.000000  "
      ]
     },
     "execution_count": 39,
     "metadata": {},
     "output_type": "execute_result"
    }
   ],
   "source": [
    "df2.describe()"
   ]
  },
  {
   "cell_type": "code",
   "execution_count": 40,
   "metadata": {},
   "outputs": [],
   "source": [
    "X = df2.copy().drop([\"Cluster\"],axis=1)#drop the alpha ticker and date\n",
    "Y = df2[\"Cluster\"]"
   ]
  },
  {
   "cell_type": "code",
   "execution_count": 41,
   "metadata": {},
   "outputs": [],
   "source": [
    "from sklearn.model_selection import train_test_split\n",
    "x_train, x_test, y_train, y_test = train_test_split(X, Y, test_size=0.30,random_state=4)"
   ]
  },
  {
   "cell_type": "code",
   "execution_count": 42,
   "metadata": {},
   "outputs": [
    {
     "name": "stdout",
     "output_type": "stream",
     "text": [
      "(20409, 6)\n",
      "(20409,)\n",
      "(8748, 6)\n",
      "(8748,)\n"
     ]
    }
   ],
   "source": [
    "print(x_train.shape)\n",
    "print(y_train.shape)\n",
    "print(x_test.shape)\n",
    "print(y_test.shape)"
   ]
  },
  {
   "cell_type": "code",
   "execution_count": 43,
   "metadata": {},
   "outputs": [],
   "source": [
    "from sklearn.neural_network import MLPClassifier\n",
    "from sklearn.model_selection import RandomizedSearchCV,GridSearchCV\n",
    "from sklearn.metrics import make_scorer\n",
    "from sklearn.metrics import f1_score,recall_score,classification_report\n",
    "\n",
    "model =  MLPClassifier(activation='relu', alpha=0.0001, batch_size=32, beta_1=0.9,\n",
    "              beta_2=0.999, early_stopping=False, epsilon=1e-08,\n",
    "              hidden_layer_sizes=(60,), learning_rate='constant',\n",
    "              learning_rate_init=0.001, max_iter=200, momentum=0.9,\n",
    "              n_iter_no_change=10, nesterovs_momentum=True, power_t=0.5,\n",
    "              random_state=1234, shuffle=True, solver='adam', tol=0.0001,\n",
    "              validation_fraction=0.1, verbose=False, warm_start=False)"
   ]
  },
  {
   "cell_type": "code",
   "execution_count": 44,
   "metadata": {},
   "outputs": [
    {
     "data": {
      "text/plain": [
       "MLPClassifier(batch_size=32, hidden_layer_sizes=(60,), random_state=1234)"
      ]
     },
     "execution_count": 44,
     "metadata": {},
     "output_type": "execute_result"
    }
   ],
   "source": [
    "model.fit(x_train,y_train)"
   ]
  },
  {
   "cell_type": "code",
   "execution_count": 45,
   "metadata": {},
   "outputs": [],
   "source": [
    "sklearn_mlp_train_preds = model.predict(x_train)\n",
    "sklearn_mlp_validation_preds = model.predict(x_test)\n"
   ]
  },
  {
   "cell_type": "code",
   "execution_count": 46,
   "metadata": {},
   "outputs": [],
   "source": [
    "from sklearn.metrics import classification_report"
   ]
  },
  {
   "cell_type": "code",
   "execution_count": 47,
   "metadata": {},
   "outputs": [
    {
     "name": "stdout",
     "output_type": "stream",
     "text": [
      "              precision    recall  f1-score   support\n",
      "\n",
      "           0       0.83      0.90      0.86      3570\n",
      "           1       0.98      0.98      0.98      5893\n",
      "           2       0.88      0.88      0.88      5211\n",
      "           3       0.87      0.88      0.88      1362\n",
      "           4       0.94      0.87      0.90      4373\n",
      "\n",
      "    accuracy                           0.91     20409\n",
      "   macro avg       0.90      0.90      0.90     20409\n",
      "weighted avg       0.91      0.91      0.91     20409\n",
      "\n",
      "              precision    recall  f1-score   support\n",
      "\n",
      "           0       0.81      0.89      0.85      1569\n",
      "           1       0.99      0.98      0.98      2560\n",
      "           2       0.88      0.86      0.87      2149\n",
      "           3       0.86      0.86      0.86       616\n",
      "           4       0.94      0.88      0.91      1854\n",
      "\n",
      "    accuracy                           0.91      8748\n",
      "   macro avg       0.89      0.90      0.89      8748\n",
      "weighted avg       0.91      0.91      0.91      8748\n",
      "\n"
     ]
    }
   ],
   "source": [
    "print(classification_report(y_train,sklearn_mlp_train_preds))\n",
    "print(classification_report(y_test,sklearn_mlp_validation_preds))"
   ]
  },
  {
   "cell_type": "code",
   "execution_count": 49,
   "metadata": {},
   "outputs": [
    {
     "data": {
      "application/javascript": [
       "\n",
       "        if (window._pyforest_update_imports_cell) { window._pyforest_update_imports_cell('import pickle'); }\n",
       "    "
      ],
      "text/plain": [
       "<IPython.core.display.Javascript object>"
      ]
     },
     "metadata": {},
     "output_type": "display_data"
    },
    {
     "data": {
      "application/javascript": [
       "\n",
       "        if (window._pyforest_update_imports_cell) { window._pyforest_update_imports_cell('import pickle'); }\n",
       "    "
      ],
      "text/plain": [
       "<IPython.core.display.Javascript object>"
      ]
     },
     "metadata": {},
     "output_type": "display_data"
    },
    {
     "name": "stdout",
     "output_type": "stream",
     "text": [
      "[1]\n"
     ]
    }
   ],
   "source": [
    "pickle.dump(model, open('model1.pkl','wb'))\n",
    "\n",
    "\n",
    "\n",
    "model = pickle.load(open('model1.pkl','rb'))\n",
    "\n",
    "print(model.predict([[1.6,94,0.059,995,60,0.049]]))"
   ]
  },
  {
   "cell_type": "code",
   "execution_count": 54,
   "metadata": {},
   "outputs": [],
   "source": [
    "from mlxtend.plotting import plot_learning_curves"
   ]
  },
  {
   "cell_type": "code",
   "execution_count": 55,
   "metadata": {},
   "outputs": [
    {
     "data": {
      "text/plain": [
       "([0.5607843137254902,\n",
       "  0.6579269786816957,\n",
       "  0.6940542306435805,\n",
       "  0.644738453999755,\n",
       "  0.7731281850254802,\n",
       "  0.7505104124132299,\n",
       "  0.8345933081338374,\n",
       "  0.8202976664420898,\n",
       "  0.8567073170731707,\n",
       "  0.910480670292518],\n",
       " [0.5632144490169182,\n",
       "  0.656721536351166,\n",
       "  0.695016003657979,\n",
       "  0.6571787837219936,\n",
       "  0.7788065843621399,\n",
       "  0.7520576131687243,\n",
       "  0.836076817558299,\n",
       "  0.8244170096021948,\n",
       "  0.8575674439871971,\n",
       "  0.9068358481938729])"
      ]
     },
     "execution_count": 55,
     "metadata": {},
     "output_type": "execute_result"
    },
    {
     "data": {
      "image/png": "[encoded data removed]",
      "text/plain": [
       "<Figure size 432x288 with 1 Axes>"
      ]
     },
     "metadata": {},
     "output_type": "display_data"
    }
   ],
   "source": [
    "plot_learning_curves(x_train,y_train,x_test,y_test,model,scoring='accuracy')"
   ]
  },
  {
   "cell_type": "code",
   "execution_count": null,
   "metadata": {},
   "outputs": [],
   "source": []
  }
 ],
 "metadata": {
  "kernelspec": {
   "display_name": "Python 3",
   "language": "python",
   "name": "python3"
  },
  "language_info": {
   "codemirror_mode": {
    "name": "ipython",
    "version": 3
   },
   "file_extension": ".py",
   "mimetype": "text/x-python",
   "name": "python",
   "nbconvert_exporter": "python",
   "pygments_lexer": "ipython3",
   "version": "3.7.6"
  }
 },
 "nbformat": 4,
 "nbformat_minor": 2
}
