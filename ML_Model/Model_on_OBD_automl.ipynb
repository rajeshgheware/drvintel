{
 "cells": [
  {
   "cell_type": "code",
   "execution_count": 1,
   "metadata": {},
   "outputs": [],
   "source": [
    "import pandas as pd\n",
    "import numpy as np\n",
    "import matplotlib.pyplot as plt\n",
    "import os\n",
    "import glob\n",
    "from sklearn.pipeline import Pipeline"
   ]
  },
  {
   "cell_type": "code",
   "execution_count": 2,
   "metadata": {},
   "outputs": [],
   "source": [
    "#df1= pd.read_excel(\"D:/Apsis/OBD Work/Kaggle_data/dailyRoutes.xlsx\")\n",
    "df1= pd.read_excel(\"dailyRoutes.xlsx\")\n",
    "#data=pd.read_csv('iBeacon_RSSI_Labeled.csv')"
   ]
  },
  {
   "cell_type": "code",
   "execution_count": 3,
   "metadata": {},
   "outputs": [
    {
     "data": {
      "text/plain": [
       "(47514, 33)"
      ]
     },
     "execution_count": 3,
     "metadata": {},
     "output_type": "execute_result"
    }
   ],
   "source": [
    "df1.shape"
   ]
  },
  {
   "cell_type": "code",
   "execution_count": 4,
   "metadata": {},
   "outputs": [
    {
     "data": {
      "text/html": [
       "<div>\n",
       "<style scoped>\n",
       "    .dataframe tbody tr th:only-of-type {\n",
       "        vertical-align: middle;\n",
       "    }\n",
       "\n",
       "    .dataframe tbody tr th {\n",
       "        vertical-align: top;\n",
       "    }\n",
       "\n",
       "    .dataframe thead th {\n",
       "        text-align: right;\n",
       "    }\n",
       "</style>\n",
       "<table border=\"1\" class=\"dataframe\">\n",
       "  <thead>\n",
       "    <tr style=\"text-align: right;\">\n",
       "      <th></th>\n",
       "      <th>TIMESTAMP</th>\n",
       "      <th>MARK</th>\n",
       "      <th>MODEL</th>\n",
       "      <th>CAR_YEAR</th>\n",
       "      <th>ENGINE_POWER</th>\n",
       "      <th>AUTOMATIC</th>\n",
       "      <th>VEHICLE_ID</th>\n",
       "      <th>BAROMETRIC_PRESSURE(KPA)</th>\n",
       "      <th>ENGINE_COOLANT_TEMP</th>\n",
       "      <th>FUEL_LEVEL</th>\n",
       "      <th>...</th>\n",
       "      <th>THROTTLE_POS</th>\n",
       "      <th>DTC_NUMBER</th>\n",
       "      <th>TROUBLE_CODES</th>\n",
       "      <th>TIMING_ADVANCE</th>\n",
       "      <th>EQUIV_RATIO</th>\n",
       "      <th>MIN</th>\n",
       "      <th>HOURS</th>\n",
       "      <th>DAYS_OF_WEEK</th>\n",
       "      <th>MONTHS</th>\n",
       "      <th>YEAR</th>\n",
       "    </tr>\n",
       "  </thead>\n",
       "  <tbody>\n",
       "    <tr>\n",
       "      <th>0</th>\n",
       "      <td>1502902504267</td>\n",
       "      <td>chevrolet</td>\n",
       "      <td>agile</td>\n",
       "      <td>2011.0</td>\n",
       "      <td>1.4</td>\n",
       "      <td>n</td>\n",
       "      <td>car1</td>\n",
       "      <td>100.0</td>\n",
       "      <td>80.0</td>\n",
       "      <td>0.486</td>\n",
       "      <td>...</td>\n",
       "      <td>0.251</td>\n",
       "      <td>MIL is OFF0 codes</td>\n",
       "      <td>NaN</td>\n",
       "      <td>0.569</td>\n",
       "      <td>0.01</td>\n",
       "      <td>13.0</td>\n",
       "      <td>16.0</td>\n",
       "      <td>2.0</td>\n",
       "      <td>8.0</td>\n",
       "      <td>2017.0</td>\n",
       "    </tr>\n",
       "    <tr>\n",
       "      <th>1</th>\n",
       "      <td>1502902512283</td>\n",
       "      <td>chevrolet</td>\n",
       "      <td>agile</td>\n",
       "      <td>2011.0</td>\n",
       "      <td>1.4</td>\n",
       "      <td>n</td>\n",
       "      <td>car1</td>\n",
       "      <td>100.0</td>\n",
       "      <td>80.0</td>\n",
       "      <td>0.486</td>\n",
       "      <td>...</td>\n",
       "      <td>0.251</td>\n",
       "      <td>MIL is OFF0 codes</td>\n",
       "      <td>NaN</td>\n",
       "      <td>0.565</td>\n",
       "      <td>0.01</td>\n",
       "      <td>13.0</td>\n",
       "      <td>16.0</td>\n",
       "      <td>2.0</td>\n",
       "      <td>8.0</td>\n",
       "      <td>2017.0</td>\n",
       "    </tr>\n",
       "    <tr>\n",
       "      <th>2</th>\n",
       "      <td>1502902520291</td>\n",
       "      <td>chevrolet</td>\n",
       "      <td>agile</td>\n",
       "      <td>2011.0</td>\n",
       "      <td>1.4</td>\n",
       "      <td>n</td>\n",
       "      <td>car1</td>\n",
       "      <td>100.0</td>\n",
       "      <td>80.0</td>\n",
       "      <td>0.486</td>\n",
       "      <td>...</td>\n",
       "      <td>0.251</td>\n",
       "      <td>MIL is OFF0 codes</td>\n",
       "      <td>NaN</td>\n",
       "      <td>0.573</td>\n",
       "      <td>0.01</td>\n",
       "      <td>13.0</td>\n",
       "      <td>16.0</td>\n",
       "      <td>2.0</td>\n",
       "      <td>8.0</td>\n",
       "      <td>2017.0</td>\n",
       "    </tr>\n",
       "    <tr>\n",
       "      <th>3</th>\n",
       "      <td>1502902528300</td>\n",
       "      <td>chevrolet</td>\n",
       "      <td>agile</td>\n",
       "      <td>2011.0</td>\n",
       "      <td>1.4</td>\n",
       "      <td>n</td>\n",
       "      <td>car1</td>\n",
       "      <td>100.0</td>\n",
       "      <td>80.0</td>\n",
       "      <td>0.486</td>\n",
       "      <td>...</td>\n",
       "      <td>0.251</td>\n",
       "      <td>MIL is OFF0 codes</td>\n",
       "      <td>NaN</td>\n",
       "      <td>0.565</td>\n",
       "      <td>0.01</td>\n",
       "      <td>13.0</td>\n",
       "      <td>16.0</td>\n",
       "      <td>2.0</td>\n",
       "      <td>8.0</td>\n",
       "      <td>2017.0</td>\n",
       "    </tr>\n",
       "    <tr>\n",
       "      <th>4</th>\n",
       "      <td>1502902536320</td>\n",
       "      <td>chevrolet</td>\n",
       "      <td>agile</td>\n",
       "      <td>2011.0</td>\n",
       "      <td>1.4</td>\n",
       "      <td>n</td>\n",
       "      <td>car1</td>\n",
       "      <td>100.0</td>\n",
       "      <td>80.0</td>\n",
       "      <td>0.486</td>\n",
       "      <td>...</td>\n",
       "      <td>0.251</td>\n",
       "      <td>MIL is OFF0 codes</td>\n",
       "      <td>NaN</td>\n",
       "      <td>0.569</td>\n",
       "      <td>0.01</td>\n",
       "      <td>13.0</td>\n",
       "      <td>16.0</td>\n",
       "      <td>2.0</td>\n",
       "      <td>8.0</td>\n",
       "      <td>2017.0</td>\n",
       "    </tr>\n",
       "  </tbody>\n",
       "</table>\n",
       "<p>5 rows × 33 columns</p>\n",
       "</div>"
      ],
      "text/plain": [
       "       TIMESTAMP       MARK  MODEL  CAR_YEAR  ENGINE_POWER AUTOMATIC  \\\n",
       "0  1502902504267  chevrolet  agile    2011.0           1.4         n   \n",
       "1  1502902512283  chevrolet  agile    2011.0           1.4         n   \n",
       "2  1502902520291  chevrolet  agile    2011.0           1.4         n   \n",
       "3  1502902528300  chevrolet  agile    2011.0           1.4         n   \n",
       "4  1502902536320  chevrolet  agile    2011.0           1.4         n   \n",
       "\n",
       "  VEHICLE_ID  BAROMETRIC_PRESSURE(KPA)  ENGINE_COOLANT_TEMP  FUEL_LEVEL  ...  \\\n",
       "0       car1                     100.0                 80.0       0.486  ...   \n",
       "1       car1                     100.0                 80.0       0.486  ...   \n",
       "2       car1                     100.0                 80.0       0.486  ...   \n",
       "3       car1                     100.0                 80.0       0.486  ...   \n",
       "4       car1                     100.0                 80.0       0.486  ...   \n",
       "\n",
       "   THROTTLE_POS         DTC_NUMBER  TROUBLE_CODES  TIMING_ADVANCE  \\\n",
       "0         0.251  MIL is OFF0 codes            NaN           0.569   \n",
       "1         0.251  MIL is OFF0 codes            NaN           0.565   \n",
       "2         0.251  MIL is OFF0 codes            NaN           0.573   \n",
       "3         0.251  MIL is OFF0 codes            NaN           0.565   \n",
       "4         0.251  MIL is OFF0 codes            NaN           0.569   \n",
       "\n",
       "   EQUIV_RATIO   MIN HOURS  DAYS_OF_WEEK  MONTHS    YEAR  \n",
       "0         0.01  13.0  16.0           2.0     8.0  2017.0  \n",
       "1         0.01  13.0  16.0           2.0     8.0  2017.0  \n",
       "2         0.01  13.0  16.0           2.0     8.0  2017.0  \n",
       "3         0.01  13.0  16.0           2.0     8.0  2017.0  \n",
       "4         0.01  13.0  16.0           2.0     8.0  2017.0  \n",
       "\n",
       "[5 rows x 33 columns]"
      ]
     },
     "execution_count": 4,
     "metadata": {},
     "output_type": "execute_result"
    }
   ],
   "source": [
    "df1.head()"
   ]
  },
  {
   "cell_type": "code",
   "execution_count": 5,
   "metadata": {},
   "outputs": [
    {
     "data": {
      "text/html": [
       "<div>\n",
       "<style scoped>\n",
       "    .dataframe tbody tr th:only-of-type {\n",
       "        vertical-align: middle;\n",
       "    }\n",
       "\n",
       "    .dataframe tbody tr th {\n",
       "        vertical-align: top;\n",
       "    }\n",
       "\n",
       "    .dataframe thead th {\n",
       "        text-align: right;\n",
       "    }\n",
       "</style>\n",
       "<table border=\"1\" class=\"dataframe\">\n",
       "  <thead>\n",
       "    <tr style=\"text-align: right;\">\n",
       "      <th></th>\n",
       "      <th>TIMESTAMP</th>\n",
       "      <th>MARK</th>\n",
       "      <th>MODEL</th>\n",
       "      <th>CAR_YEAR</th>\n",
       "      <th>ENGINE_POWER</th>\n",
       "      <th>AUTOMATIC</th>\n",
       "      <th>VEHICLE_ID</th>\n",
       "      <th>BAROMETRIC_PRESSURE(KPA)</th>\n",
       "      <th>ENGINE_COOLANT_TEMP</th>\n",
       "      <th>FUEL_LEVEL</th>\n",
       "      <th>...</th>\n",
       "      <th>THROTTLE_POS</th>\n",
       "      <th>DTC_NUMBER</th>\n",
       "      <th>TROUBLE_CODES</th>\n",
       "      <th>TIMING_ADVANCE</th>\n",
       "      <th>EQUIV_RATIO</th>\n",
       "      <th>MIN</th>\n",
       "      <th>HOURS</th>\n",
       "      <th>DAYS_OF_WEEK</th>\n",
       "      <th>MONTHS</th>\n",
       "      <th>YEAR</th>\n",
       "    </tr>\n",
       "  </thead>\n",
       "  <tbody>\n",
       "    <tr>\n",
       "      <th>0</th>\n",
       "      <td>1502902504267</td>\n",
       "      <td>chevrolet</td>\n",
       "      <td>agile</td>\n",
       "      <td>2011.0</td>\n",
       "      <td>1.4</td>\n",
       "      <td>n</td>\n",
       "      <td>car1</td>\n",
       "      <td>100.0</td>\n",
       "      <td>80.0</td>\n",
       "      <td>0.486</td>\n",
       "      <td>...</td>\n",
       "      <td>0.251</td>\n",
       "      <td>MIL is OFF0 codes</td>\n",
       "      <td>NaN</td>\n",
       "      <td>0.569</td>\n",
       "      <td>0.01</td>\n",
       "      <td>13.0</td>\n",
       "      <td>16.0</td>\n",
       "      <td>2.0</td>\n",
       "      <td>8.0</td>\n",
       "      <td>2017.0</td>\n",
       "    </tr>\n",
       "    <tr>\n",
       "      <th>1</th>\n",
       "      <td>1502902512283</td>\n",
       "      <td>chevrolet</td>\n",
       "      <td>agile</td>\n",
       "      <td>2011.0</td>\n",
       "      <td>1.4</td>\n",
       "      <td>n</td>\n",
       "      <td>car1</td>\n",
       "      <td>100.0</td>\n",
       "      <td>80.0</td>\n",
       "      <td>0.486</td>\n",
       "      <td>...</td>\n",
       "      <td>0.251</td>\n",
       "      <td>MIL is OFF0 codes</td>\n",
       "      <td>NaN</td>\n",
       "      <td>0.565</td>\n",
       "      <td>0.01</td>\n",
       "      <td>13.0</td>\n",
       "      <td>16.0</td>\n",
       "      <td>2.0</td>\n",
       "      <td>8.0</td>\n",
       "      <td>2017.0</td>\n",
       "    </tr>\n",
       "    <tr>\n",
       "      <th>2</th>\n",
       "      <td>1502902520291</td>\n",
       "      <td>chevrolet</td>\n",
       "      <td>agile</td>\n",
       "      <td>2011.0</td>\n",
       "      <td>1.4</td>\n",
       "      <td>n</td>\n",
       "      <td>car1</td>\n",
       "      <td>100.0</td>\n",
       "      <td>80.0</td>\n",
       "      <td>0.486</td>\n",
       "      <td>...</td>\n",
       "      <td>0.251</td>\n",
       "      <td>MIL is OFF0 codes</td>\n",
       "      <td>NaN</td>\n",
       "      <td>0.573</td>\n",
       "      <td>0.01</td>\n",
       "      <td>13.0</td>\n",
       "      <td>16.0</td>\n",
       "      <td>2.0</td>\n",
       "      <td>8.0</td>\n",
       "      <td>2017.0</td>\n",
       "    </tr>\n",
       "    <tr>\n",
       "      <th>3</th>\n",
       "      <td>1502902528300</td>\n",
       "      <td>chevrolet</td>\n",
       "      <td>agile</td>\n",
       "      <td>2011.0</td>\n",
       "      <td>1.4</td>\n",
       "      <td>n</td>\n",
       "      <td>car1</td>\n",
       "      <td>100.0</td>\n",
       "      <td>80.0</td>\n",
       "      <td>0.486</td>\n",
       "      <td>...</td>\n",
       "      <td>0.251</td>\n",
       "      <td>MIL is OFF0 codes</td>\n",
       "      <td>NaN</td>\n",
       "      <td>0.565</td>\n",
       "      <td>0.01</td>\n",
       "      <td>13.0</td>\n",
       "      <td>16.0</td>\n",
       "      <td>2.0</td>\n",
       "      <td>8.0</td>\n",
       "      <td>2017.0</td>\n",
       "    </tr>\n",
       "    <tr>\n",
       "      <th>4</th>\n",
       "      <td>1502902536320</td>\n",
       "      <td>chevrolet</td>\n",
       "      <td>agile</td>\n",
       "      <td>2011.0</td>\n",
       "      <td>1.4</td>\n",
       "      <td>n</td>\n",
       "      <td>car1</td>\n",
       "      <td>100.0</td>\n",
       "      <td>80.0</td>\n",
       "      <td>0.486</td>\n",
       "      <td>...</td>\n",
       "      <td>0.251</td>\n",
       "      <td>MIL is OFF0 codes</td>\n",
       "      <td>NaN</td>\n",
       "      <td>0.569</td>\n",
       "      <td>0.01</td>\n",
       "      <td>13.0</td>\n",
       "      <td>16.0</td>\n",
       "      <td>2.0</td>\n",
       "      <td>8.0</td>\n",
       "      <td>2017.0</td>\n",
       "    </tr>\n",
       "  </tbody>\n",
       "</table>\n",
       "<p>5 rows × 33 columns</p>\n",
       "</div>"
      ],
      "text/plain": [
       "       TIMESTAMP       MARK  MODEL  CAR_YEAR  ENGINE_POWER AUTOMATIC  \\\n",
       "0  1502902504267  chevrolet  agile    2011.0           1.4         n   \n",
       "1  1502902512283  chevrolet  agile    2011.0           1.4         n   \n",
       "2  1502902520291  chevrolet  agile    2011.0           1.4         n   \n",
       "3  1502902528300  chevrolet  agile    2011.0           1.4         n   \n",
       "4  1502902536320  chevrolet  agile    2011.0           1.4         n   \n",
       "\n",
       "  VEHICLE_ID  BAROMETRIC_PRESSURE(KPA)  ENGINE_COOLANT_TEMP  FUEL_LEVEL  ...  \\\n",
       "0       car1                     100.0                 80.0       0.486  ...   \n",
       "1       car1                     100.0                 80.0       0.486  ...   \n",
       "2       car1                     100.0                 80.0       0.486  ...   \n",
       "3       car1                     100.0                 80.0       0.486  ...   \n",
       "4       car1                     100.0                 80.0       0.486  ...   \n",
       "\n",
       "   THROTTLE_POS         DTC_NUMBER  TROUBLE_CODES  TIMING_ADVANCE  \\\n",
       "0         0.251  MIL is OFF0 codes            NaN           0.569   \n",
       "1         0.251  MIL is OFF0 codes            NaN           0.565   \n",
       "2         0.251  MIL is OFF0 codes            NaN           0.573   \n",
       "3         0.251  MIL is OFF0 codes            NaN           0.565   \n",
       "4         0.251  MIL is OFF0 codes            NaN           0.569   \n",
       "\n",
       "   EQUIV_RATIO   MIN HOURS  DAYS_OF_WEEK  MONTHS    YEAR  \n",
       "0         0.01  13.0  16.0           2.0     8.0  2017.0  \n",
       "1         0.01  13.0  16.0           2.0     8.0  2017.0  \n",
       "2         0.01  13.0  16.0           2.0     8.0  2017.0  \n",
       "3         0.01  13.0  16.0           2.0     8.0  2017.0  \n",
       "4         0.01  13.0  16.0           2.0     8.0  2017.0  \n",
       "\n",
       "[5 rows x 33 columns]"
      ]
     },
     "execution_count": 5,
     "metadata": {},
     "output_type": "execute_result"
    }
   ],
   "source": [
    "df1.head()"
   ]
  },
  {
   "cell_type": "code",
   "execution_count": 6,
   "metadata": {},
   "outputs": [
    {
     "data": {
      "text/plain": [
       "TIMESTAMP                          0\n",
       "MARK                              55\n",
       "MODEL                             55\n",
       "CAR_YEAR                          55\n",
       "ENGINE_POWER                      55\n",
       "AUTOMATIC                         55\n",
       "VEHICLE_ID                         0\n",
       "BAROMETRIC_PRESSURE(KPA)       37302\n",
       "ENGINE_COOLANT_TEMP            13550\n",
       "FUEL_LEVEL                     44520\n",
       "ENGINE_LOAD                    16542\n",
       "AMBIENT_AIR_TEMP               43895\n",
       "ENGINE_RPM                     13655\n",
       "INTAKE_MANIFOLD_PRESSURE       22425\n",
       "MAF                            35686\n",
       "LONG TERM FUEL TRIM BANK 2     34444\n",
       "FUEL_TYPE                      27509\n",
       "AIR_INTAKE_TEMP                13162\n",
       "FUEL_PRESSURE                  47376\n",
       "SPEED                            985\n",
       "SHORT TERM FUEL TRIM BANK 2    34444\n",
       "SHORT TERM FUEL TRIM BANK 1     9919\n",
       "ENGINE_RUNTIME                 35612\n",
       "THROTTLE_POS                   13655\n",
       "DTC_NUMBER                       372\n",
       "TROUBLE_CODES                  35589\n",
       "TIMING_ADVANCE                 13352\n",
       "EQUIV_RATIO                    35618\n",
       "MIN                                2\n",
       "HOURS                              2\n",
       "DAYS_OF_WEEK                       2\n",
       "MONTHS                             2\n",
       "YEAR                               2\n",
       "dtype: int64"
      ]
     },
     "execution_count": 6,
     "metadata": {},
     "output_type": "execute_result"
    }
   ],
   "source": [
    "df1.isnull().sum()"
   ]
  },
  {
   "cell_type": "code",
   "execution_count": 7,
   "metadata": {},
   "outputs": [],
   "source": [
    "df1.drop(df1.columns.difference(['ENGINE_POWER','BAROMETRIC_PRESSURE(KPA)','ENGINE_COOLANT_TEMP','FUEL_LEVEL','FUEL_PRESSURE','FUEL_TYPE', 'ENGINE_LOAD','ENGINE_RPM','INTAKE_MANIFOLD_PRESSURE','MAF','SPEED','THROTTLE_POS','LONG TERM FUEL TRIM BANK 2']), 1, inplace=True)"
   ]
  },
  {
   "cell_type": "code",
   "execution_count": 8,
   "metadata": {},
   "outputs": [
    {
     "data": {
      "text/html": [
       "<div>\n",
       "<style scoped>\n",
       "    .dataframe tbody tr th:only-of-type {\n",
       "        vertical-align: middle;\n",
       "    }\n",
       "\n",
       "    .dataframe tbody tr th {\n",
       "        vertical-align: top;\n",
       "    }\n",
       "\n",
       "    .dataframe thead th {\n",
       "        text-align: right;\n",
       "    }\n",
       "</style>\n",
       "<table border=\"1\" class=\"dataframe\">\n",
       "  <thead>\n",
       "    <tr style=\"text-align: right;\">\n",
       "      <th></th>\n",
       "      <th>ENGINE_POWER</th>\n",
       "      <th>BAROMETRIC_PRESSURE(KPA)</th>\n",
       "      <th>ENGINE_COOLANT_TEMP</th>\n",
       "      <th>FUEL_LEVEL</th>\n",
       "      <th>ENGINE_LOAD</th>\n",
       "      <th>ENGINE_RPM</th>\n",
       "      <th>INTAKE_MANIFOLD_PRESSURE</th>\n",
       "      <th>MAF</th>\n",
       "      <th>LONG TERM FUEL TRIM BANK 2</th>\n",
       "      <th>FUEL_TYPE</th>\n",
       "      <th>FUEL_PRESSURE</th>\n",
       "      <th>SPEED</th>\n",
       "      <th>THROTTLE_POS</th>\n",
       "    </tr>\n",
       "  </thead>\n",
       "  <tbody>\n",
       "    <tr>\n",
       "      <th>0</th>\n",
       "      <td>1.4</td>\n",
       "      <td>100.0</td>\n",
       "      <td>80.0</td>\n",
       "      <td>0.486</td>\n",
       "      <td>0.333</td>\n",
       "      <td>1009.0</td>\n",
       "      <td>49.0</td>\n",
       "      <td>4.49</td>\n",
       "      <td>NaN</td>\n",
       "      <td>Biodiesel_Ethanol</td>\n",
       "      <td>NaN</td>\n",
       "      <td>0.0</td>\n",
       "      <td>0.251</td>\n",
       "    </tr>\n",
       "    <tr>\n",
       "      <th>1</th>\n",
       "      <td>1.4</td>\n",
       "      <td>100.0</td>\n",
       "      <td>80.0</td>\n",
       "      <td>0.486</td>\n",
       "      <td>0.325</td>\n",
       "      <td>1003.0</td>\n",
       "      <td>52.0</td>\n",
       "      <td>4.51</td>\n",
       "      <td>NaN</td>\n",
       "      <td>Biodiesel_Ethanol</td>\n",
       "      <td>NaN</td>\n",
       "      <td>0.0</td>\n",
       "      <td>0.251</td>\n",
       "    </tr>\n",
       "    <tr>\n",
       "      <th>2</th>\n",
       "      <td>1.4</td>\n",
       "      <td>100.0</td>\n",
       "      <td>80.0</td>\n",
       "      <td>0.486</td>\n",
       "      <td>0.329</td>\n",
       "      <td>995.0</td>\n",
       "      <td>51.0</td>\n",
       "      <td>4.48</td>\n",
       "      <td>NaN</td>\n",
       "      <td>Biodiesel_Ethanol</td>\n",
       "      <td>NaN</td>\n",
       "      <td>0.0</td>\n",
       "      <td>0.251</td>\n",
       "    </tr>\n",
       "    <tr>\n",
       "      <th>3</th>\n",
       "      <td>1.4</td>\n",
       "      <td>100.0</td>\n",
       "      <td>80.0</td>\n",
       "      <td>0.486</td>\n",
       "      <td>0.325</td>\n",
       "      <td>1004.0</td>\n",
       "      <td>51.0</td>\n",
       "      <td>4.51</td>\n",
       "      <td>NaN</td>\n",
       "      <td>Biodiesel_Ethanol</td>\n",
       "      <td>NaN</td>\n",
       "      <td>0.0</td>\n",
       "      <td>0.251</td>\n",
       "    </tr>\n",
       "    <tr>\n",
       "      <th>4</th>\n",
       "      <td>1.4</td>\n",
       "      <td>100.0</td>\n",
       "      <td>80.0</td>\n",
       "      <td>0.486</td>\n",
       "      <td>0.329</td>\n",
       "      <td>1005.0</td>\n",
       "      <td>49.0</td>\n",
       "      <td>4.49</td>\n",
       "      <td>NaN</td>\n",
       "      <td>Biodiesel_Ethanol</td>\n",
       "      <td>NaN</td>\n",
       "      <td>0.0</td>\n",
       "      <td>0.251</td>\n",
       "    </tr>\n",
       "  </tbody>\n",
       "</table>\n",
       "</div>"
      ],
      "text/plain": [
       "   ENGINE_POWER  BAROMETRIC_PRESSURE(KPA)  ENGINE_COOLANT_TEMP  FUEL_LEVEL  \\\n",
       "0           1.4                     100.0                 80.0       0.486   \n",
       "1           1.4                     100.0                 80.0       0.486   \n",
       "2           1.4                     100.0                 80.0       0.486   \n",
       "3           1.4                     100.0                 80.0       0.486   \n",
       "4           1.4                     100.0                 80.0       0.486   \n",
       "\n",
       "   ENGINE_LOAD  ENGINE_RPM  INTAKE_MANIFOLD_PRESSURE   MAF  \\\n",
       "0        0.333      1009.0                      49.0  4.49   \n",
       "1        0.325      1003.0                      52.0  4.51   \n",
       "2        0.329       995.0                      51.0  4.48   \n",
       "3        0.325      1004.0                      51.0  4.51   \n",
       "4        0.329      1005.0                      49.0  4.49   \n",
       "\n",
       "   LONG TERM FUEL TRIM BANK 2          FUEL_TYPE  FUEL_PRESSURE  SPEED  \\\n",
       "0                         NaN  Biodiesel_Ethanol            NaN    0.0   \n",
       "1                         NaN  Biodiesel_Ethanol            NaN    0.0   \n",
       "2                         NaN  Biodiesel_Ethanol            NaN    0.0   \n",
       "3                         NaN  Biodiesel_Ethanol            NaN    0.0   \n",
       "4                         NaN  Biodiesel_Ethanol            NaN    0.0   \n",
       "\n",
       "   THROTTLE_POS  \n",
       "0         0.251  \n",
       "1         0.251  \n",
       "2         0.251  \n",
       "3         0.251  \n",
       "4         0.251  "
      ]
     },
     "execution_count": 8,
     "metadata": {},
     "output_type": "execute_result"
    }
   ],
   "source": [
    "df1.head()"
   ]
  },
  {
   "cell_type": "code",
   "execution_count": 9,
   "metadata": {},
   "outputs": [
    {
     "data": {
      "text/plain": [
       "Index(['ENGINE_POWER', 'BAROMETRIC_PRESSURE(KPA)', 'ENGINE_COOLANT_TEMP',\n",
       "       'FUEL_LEVEL', 'ENGINE_LOAD', 'ENGINE_RPM', 'INTAKE_MANIFOLD_PRESSURE',\n",
       "       'MAF', 'LONG TERM FUEL TRIM BANK 2', 'FUEL_TYPE', 'FUEL_PRESSURE',\n",
       "       'SPEED', 'THROTTLE_POS'],\n",
       "      dtype='object')"
      ]
     },
     "execution_count": 9,
     "metadata": {},
     "output_type": "execute_result"
    }
   ],
   "source": [
    "df1.columns"
   ]
  },
  {
   "cell_type": "code",
   "execution_count": 10,
   "metadata": {},
   "outputs": [
    {
     "data": {
      "text/plain": [
       "ENGINE_POWER                     55\n",
       "BAROMETRIC_PRESSURE(KPA)      37302\n",
       "ENGINE_COOLANT_TEMP           13550\n",
       "FUEL_LEVEL                    44520\n",
       "ENGINE_LOAD                   16542\n",
       "ENGINE_RPM                    13655\n",
       "INTAKE_MANIFOLD_PRESSURE      22425\n",
       "MAF                           35686\n",
       "LONG TERM FUEL TRIM BANK 2    34444\n",
       "FUEL_TYPE                     27509\n",
       "FUEL_PRESSURE                 47376\n",
       "SPEED                           985\n",
       "THROTTLE_POS                  13655\n",
       "dtype: int64"
      ]
     },
     "execution_count": 10,
     "metadata": {},
     "output_type": "execute_result"
    }
   ],
   "source": [
    "df1.isnull().sum()"
   ]
  },
  {
   "cell_type": "code",
   "execution_count": 11,
   "metadata": {},
   "outputs": [],
   "source": [
    "# function for the percentage of the null values\n",
    "def assess_NA(data):\n",
    "  \n",
    "    # pandas series denoting features and the sum of their null values\n",
    "    null_sum = data.isnull().sum()# instantiate columns for missing data\n",
    "    total = null_sum.sort_values(ascending=False)\n",
    "    percent = ( ((null_sum / len(data.index))*100).round(2) ).sort_values(ascending=False)\n",
    "    \n",
    "    # concatenate along the columns to create the complete dataframe\n",
    "    df_NA = pd.concat([total, percent], axis=1, keys=['Number of NA', 'Percent NA'])\n",
    "    \n",
    "    # drop rows that don't have any missing data; omit if you want to keep all rows\n",
    "    df_NA = df_NA[ (df_NA.T != 0).any() ]\n",
    "    \n",
    "    return df_NA"
   ]
  },
  {
   "cell_type": "code",
   "execution_count": 12,
   "metadata": {},
   "outputs": [
    {
     "data": {
      "text/html": [
       "<div>\n",
       "<style scoped>\n",
       "    .dataframe tbody tr th:only-of-type {\n",
       "        vertical-align: middle;\n",
       "    }\n",
       "\n",
       "    .dataframe tbody tr th {\n",
       "        vertical-align: top;\n",
       "    }\n",
       "\n",
       "    .dataframe thead th {\n",
       "        text-align: right;\n",
       "    }\n",
       "</style>\n",
       "<table border=\"1\" class=\"dataframe\">\n",
       "  <thead>\n",
       "    <tr style=\"text-align: right;\">\n",
       "      <th></th>\n",
       "      <th>Number of NA</th>\n",
       "      <th>Percent NA</th>\n",
       "    </tr>\n",
       "  </thead>\n",
       "  <tbody>\n",
       "    <tr>\n",
       "      <th>FUEL_PRESSURE</th>\n",
       "      <td>47376</td>\n",
       "      <td>99.71</td>\n",
       "    </tr>\n",
       "    <tr>\n",
       "      <th>FUEL_LEVEL</th>\n",
       "      <td>44520</td>\n",
       "      <td>93.70</td>\n",
       "    </tr>\n",
       "    <tr>\n",
       "      <th>BAROMETRIC_PRESSURE(KPA)</th>\n",
       "      <td>37302</td>\n",
       "      <td>78.51</td>\n",
       "    </tr>\n",
       "    <tr>\n",
       "      <th>MAF</th>\n",
       "      <td>35686</td>\n",
       "      <td>75.11</td>\n",
       "    </tr>\n",
       "    <tr>\n",
       "      <th>LONG TERM FUEL TRIM BANK 2</th>\n",
       "      <td>34444</td>\n",
       "      <td>72.49</td>\n",
       "    </tr>\n",
       "    <tr>\n",
       "      <th>FUEL_TYPE</th>\n",
       "      <td>27509</td>\n",
       "      <td>57.90</td>\n",
       "    </tr>\n",
       "    <tr>\n",
       "      <th>INTAKE_MANIFOLD_PRESSURE</th>\n",
       "      <td>22425</td>\n",
       "      <td>47.20</td>\n",
       "    </tr>\n",
       "    <tr>\n",
       "      <th>ENGINE_LOAD</th>\n",
       "      <td>16542</td>\n",
       "      <td>34.82</td>\n",
       "    </tr>\n",
       "    <tr>\n",
       "      <th>THROTTLE_POS</th>\n",
       "      <td>13655</td>\n",
       "      <td>28.74</td>\n",
       "    </tr>\n",
       "    <tr>\n",
       "      <th>ENGINE_RPM</th>\n",
       "      <td>13655</td>\n",
       "      <td>28.74</td>\n",
       "    </tr>\n",
       "    <tr>\n",
       "      <th>ENGINE_COOLANT_TEMP</th>\n",
       "      <td>13550</td>\n",
       "      <td>28.52</td>\n",
       "    </tr>\n",
       "    <tr>\n",
       "      <th>SPEED</th>\n",
       "      <td>985</td>\n",
       "      <td>2.07</td>\n",
       "    </tr>\n",
       "    <tr>\n",
       "      <th>ENGINE_POWER</th>\n",
       "      <td>55</td>\n",
       "      <td>0.12</td>\n",
       "    </tr>\n",
       "  </tbody>\n",
       "</table>\n",
       "</div>"
      ],
      "text/plain": [
       "                            Number of NA  Percent NA\n",
       "FUEL_PRESSURE                      47376       99.71\n",
       "FUEL_LEVEL                         44520       93.70\n",
       "BAROMETRIC_PRESSURE(KPA)           37302       78.51\n",
       "MAF                                35686       75.11\n",
       "LONG TERM FUEL TRIM BANK 2         34444       72.49\n",
       "FUEL_TYPE                          27509       57.90\n",
       "INTAKE_MANIFOLD_PRESSURE           22425       47.20\n",
       "ENGINE_LOAD                        16542       34.82\n",
       "THROTTLE_POS                       13655       28.74\n",
       "ENGINE_RPM                         13655       28.74\n",
       "ENGINE_COOLANT_TEMP                13550       28.52\n",
       "SPEED                                985        2.07\n",
       "ENGINE_POWER                          55        0.12"
      ]
     },
     "execution_count": 12,
     "metadata": {},
     "output_type": "execute_result"
    }
   ],
   "source": [
    "assess_NA(df1)"
   ]
  },
  {
   "cell_type": "code",
   "execution_count": 13,
   "metadata": {},
   "outputs": [
    {
     "data": {
      "text/plain": [
       "Biodiesel_Ethanol     19867\n",
       "Biodiesel_Gasoline      138\n",
       "Name: FUEL_TYPE, dtype: int64"
      ]
     },
     "execution_count": 13,
     "metadata": {},
     "output_type": "execute_result"
    }
   ],
   "source": [
    "df1.FUEL_TYPE.value_counts()"
   ]
  },
  {
   "cell_type": "code",
   "execution_count": 14,
   "metadata": {},
   "outputs": [
    {
     "data": {
      "text/plain": [
       "ENGINE_POWER                  float64\n",
       "BAROMETRIC_PRESSURE(KPA)      float64\n",
       "ENGINE_COOLANT_TEMP           float64\n",
       "FUEL_LEVEL                    float64\n",
       "ENGINE_LOAD                   float64\n",
       "ENGINE_RPM                    float64\n",
       "INTAKE_MANIFOLD_PRESSURE      float64\n",
       "MAF                           float64\n",
       "LONG TERM FUEL TRIM BANK 2    float64\n",
       "FUEL_TYPE                      object\n",
       "FUEL_PRESSURE                 float64\n",
       "SPEED                         float64\n",
       "THROTTLE_POS                  float64\n",
       "dtype: object"
      ]
     },
     "execution_count": 14,
     "metadata": {},
     "output_type": "execute_result"
    }
   ],
   "source": [
    "df1.dtypes"
   ]
  },
  {
   "cell_type": "code",
   "execution_count": 15,
   "metadata": {},
   "outputs": [],
   "source": [
    "df1.drop(['FUEL_LEVEL','INTAKE_MANIFOLD_PRESSURE','MAF','FUEL_TYPE','LONG TERM FUEL TRIM BANK 2','FUEL_PRESSURE','BAROMETRIC_PRESSURE(KPA)'], axis=1, inplace=True)"
   ]
  },
  {
   "cell_type": "code",
   "execution_count": 16,
   "metadata": {},
   "outputs": [
    {
     "data": {
      "text/plain": [
       "(47514, 6)"
      ]
     },
     "execution_count": 16,
     "metadata": {},
     "output_type": "execute_result"
    }
   ],
   "source": [
    "df1.shape"
   ]
  },
  {
   "cell_type": "code",
   "execution_count": 17,
   "metadata": {},
   "outputs": [
    {
     "data": {
      "text/html": [
       "<div>\n",
       "<style scoped>\n",
       "    .dataframe tbody tr th:only-of-type {\n",
       "        vertical-align: middle;\n",
       "    }\n",
       "\n",
       "    .dataframe tbody tr th {\n",
       "        vertical-align: top;\n",
       "    }\n",
       "\n",
       "    .dataframe thead th {\n",
       "        text-align: right;\n",
       "    }\n",
       "</style>\n",
       "<table border=\"1\" class=\"dataframe\">\n",
       "  <thead>\n",
       "    <tr style=\"text-align: right;\">\n",
       "      <th></th>\n",
       "      <th>ENGINE_POWER</th>\n",
       "      <th>ENGINE_COOLANT_TEMP</th>\n",
       "      <th>ENGINE_LOAD</th>\n",
       "      <th>ENGINE_RPM</th>\n",
       "      <th>SPEED</th>\n",
       "      <th>THROTTLE_POS</th>\n",
       "    </tr>\n",
       "  </thead>\n",
       "  <tbody>\n",
       "    <tr>\n",
       "      <th>0</th>\n",
       "      <td>1.4</td>\n",
       "      <td>80.0</td>\n",
       "      <td>0.333</td>\n",
       "      <td>1009.0</td>\n",
       "      <td>0.0</td>\n",
       "      <td>0.251</td>\n",
       "    </tr>\n",
       "    <tr>\n",
       "      <th>1</th>\n",
       "      <td>1.4</td>\n",
       "      <td>80.0</td>\n",
       "      <td>0.325</td>\n",
       "      <td>1003.0</td>\n",
       "      <td>0.0</td>\n",
       "      <td>0.251</td>\n",
       "    </tr>\n",
       "    <tr>\n",
       "      <th>2</th>\n",
       "      <td>1.4</td>\n",
       "      <td>80.0</td>\n",
       "      <td>0.329</td>\n",
       "      <td>995.0</td>\n",
       "      <td>0.0</td>\n",
       "      <td>0.251</td>\n",
       "    </tr>\n",
       "    <tr>\n",
       "      <th>3</th>\n",
       "      <td>1.4</td>\n",
       "      <td>80.0</td>\n",
       "      <td>0.325</td>\n",
       "      <td>1004.0</td>\n",
       "      <td>0.0</td>\n",
       "      <td>0.251</td>\n",
       "    </tr>\n",
       "    <tr>\n",
       "      <th>4</th>\n",
       "      <td>1.4</td>\n",
       "      <td>80.0</td>\n",
       "      <td>0.329</td>\n",
       "      <td>1005.0</td>\n",
       "      <td>0.0</td>\n",
       "      <td>0.251</td>\n",
       "    </tr>\n",
       "  </tbody>\n",
       "</table>\n",
       "</div>"
      ],
      "text/plain": [
       "   ENGINE_POWER  ENGINE_COOLANT_TEMP  ENGINE_LOAD  ENGINE_RPM  SPEED  \\\n",
       "0           1.4                 80.0        0.333      1009.0    0.0   \n",
       "1           1.4                 80.0        0.325      1003.0    0.0   \n",
       "2           1.4                 80.0        0.329       995.0    0.0   \n",
       "3           1.4                 80.0        0.325      1004.0    0.0   \n",
       "4           1.4                 80.0        0.329      1005.0    0.0   \n",
       "\n",
       "   THROTTLE_POS  \n",
       "0         0.251  \n",
       "1         0.251  \n",
       "2         0.251  \n",
       "3         0.251  \n",
       "4         0.251  "
      ]
     },
     "execution_count": 17,
     "metadata": {},
     "output_type": "execute_result"
    }
   ],
   "source": [
    "df1.head()"
   ]
  },
  {
   "cell_type": "code",
   "execution_count": 18,
   "metadata": {},
   "outputs": [
    {
     "data": {
      "text/plain": [
       "(47514, 6)"
      ]
     },
     "execution_count": 18,
     "metadata": {},
     "output_type": "execute_result"
    }
   ],
   "source": [
    "df1.shape"
   ]
  },
  {
   "cell_type": "code",
   "execution_count": 19,
   "metadata": {},
   "outputs": [
    {
     "data": {
      "text/plain": [
       "ENGINE_POWER              55\n",
       "ENGINE_COOLANT_TEMP    13550\n",
       "ENGINE_LOAD            16542\n",
       "ENGINE_RPM             13655\n",
       "SPEED                    985\n",
       "THROTTLE_POS           13655\n",
       "dtype: int64"
      ]
     },
     "execution_count": 19,
     "metadata": {},
     "output_type": "execute_result"
    }
   ],
   "source": [
    "df1.isnull().sum()"
   ]
  },
  {
   "cell_type": "code",
   "execution_count": 20,
   "metadata": {},
   "outputs": [],
   "source": [
    "#threshold to drop which has 6 null values\n",
    "df2=df1.dropna(thresh=6)"
   ]
  },
  {
   "cell_type": "code",
   "execution_count": 21,
   "metadata": {},
   "outputs": [
    {
     "data": {
      "text/plain": [
       "(29157, 6)"
      ]
     },
     "execution_count": 21,
     "metadata": {},
     "output_type": "execute_result"
    }
   ],
   "source": [
    "df2.shape"
   ]
  },
  {
   "cell_type": "code",
   "execution_count": 22,
   "metadata": {},
   "outputs": [
    {
     "data": {
      "text/plain": [
       "ENGINE_POWER           0\n",
       "ENGINE_COOLANT_TEMP    0\n",
       "ENGINE_LOAD            0\n",
       "ENGINE_RPM             0\n",
       "SPEED                  0\n",
       "THROTTLE_POS           0\n",
       "dtype: int64"
      ]
     },
     "execution_count": 22,
     "metadata": {},
     "output_type": "execute_result"
    }
   ],
   "source": [
    "df2.isnull().sum()"
   ]
  },
  {
   "cell_type": "code",
   "execution_count": 23,
   "metadata": {},
   "outputs": [
    {
     "data": {
      "text/html": [
       "<div>\n",
       "<style scoped>\n",
       "    .dataframe tbody tr th:only-of-type {\n",
       "        vertical-align: middle;\n",
       "    }\n",
       "\n",
       "    .dataframe tbody tr th {\n",
       "        vertical-align: top;\n",
       "    }\n",
       "\n",
       "    .dataframe thead th {\n",
       "        text-align: right;\n",
       "    }\n",
       "</style>\n",
       "<table border=\"1\" class=\"dataframe\">\n",
       "  <thead>\n",
       "    <tr style=\"text-align: right;\">\n",
       "      <th></th>\n",
       "      <th>ENGINE_POWER</th>\n",
       "      <th>ENGINE_COOLANT_TEMP</th>\n",
       "      <th>ENGINE_LOAD</th>\n",
       "      <th>ENGINE_RPM</th>\n",
       "      <th>SPEED</th>\n",
       "      <th>THROTTLE_POS</th>\n",
       "    </tr>\n",
       "  </thead>\n",
       "  <tbody>\n",
       "    <tr>\n",
       "      <th>0</th>\n",
       "      <td>1.4</td>\n",
       "      <td>80.0</td>\n",
       "      <td>0.333</td>\n",
       "      <td>1009.0</td>\n",
       "      <td>0.0</td>\n",
       "      <td>0.251</td>\n",
       "    </tr>\n",
       "    <tr>\n",
       "      <th>1</th>\n",
       "      <td>1.4</td>\n",
       "      <td>80.0</td>\n",
       "      <td>0.325</td>\n",
       "      <td>1003.0</td>\n",
       "      <td>0.0</td>\n",
       "      <td>0.251</td>\n",
       "    </tr>\n",
       "    <tr>\n",
       "      <th>2</th>\n",
       "      <td>1.4</td>\n",
       "      <td>80.0</td>\n",
       "      <td>0.329</td>\n",
       "      <td>995.0</td>\n",
       "      <td>0.0</td>\n",
       "      <td>0.251</td>\n",
       "    </tr>\n",
       "    <tr>\n",
       "      <th>3</th>\n",
       "      <td>1.4</td>\n",
       "      <td>80.0</td>\n",
       "      <td>0.325</td>\n",
       "      <td>1004.0</td>\n",
       "      <td>0.0</td>\n",
       "      <td>0.251</td>\n",
       "    </tr>\n",
       "    <tr>\n",
       "      <th>4</th>\n",
       "      <td>1.4</td>\n",
       "      <td>80.0</td>\n",
       "      <td>0.329</td>\n",
       "      <td>1005.0</td>\n",
       "      <td>0.0</td>\n",
       "      <td>0.251</td>\n",
       "    </tr>\n",
       "  </tbody>\n",
       "</table>\n",
       "</div>"
      ],
      "text/plain": [
       "   ENGINE_POWER  ENGINE_COOLANT_TEMP  ENGINE_LOAD  ENGINE_RPM  SPEED  \\\n",
       "0           1.4                 80.0        0.333      1009.0    0.0   \n",
       "1           1.4                 80.0        0.325      1003.0    0.0   \n",
       "2           1.4                 80.0        0.329       995.0    0.0   \n",
       "3           1.4                 80.0        0.325      1004.0    0.0   \n",
       "4           1.4                 80.0        0.329      1005.0    0.0   \n",
       "\n",
       "   THROTTLE_POS  \n",
       "0         0.251  \n",
       "1         0.251  \n",
       "2         0.251  \n",
       "3         0.251  \n",
       "4         0.251  "
      ]
     },
     "execution_count": 23,
     "metadata": {},
     "output_type": "execute_result"
    }
   ],
   "source": [
    "df2.head()"
   ]
  },
  {
   "cell_type": "code",
   "execution_count": 24,
   "metadata": {},
   "outputs": [],
   "source": [
    "#df1.reset_index(drop=True, inplace=True)"
   ]
  },
  {
   "cell_type": "code",
   "execution_count": 25,
   "metadata": {},
   "outputs": [
    {
     "ename": "ModuleNotFoundError",
     "evalue": "No module named 'pandas_profiling'",
     "output_type": "error",
     "traceback": [
      "\u001b[1;31m---------------------------------------------------------------------------\u001b[0m",
      "\u001b[1;31mModuleNotFoundError\u001b[0m                       Traceback (most recent call last)",
      "\u001b[1;32m<ipython-input-25-495cdeeedbf0>\u001b[0m in \u001b[0;36m<module>\u001b[1;34m\u001b[0m\n\u001b[1;32m----> 1\u001b[1;33m \u001b[1;32mfrom\u001b[0m \u001b[0mpandas_profiling\u001b[0m \u001b[1;32mimport\u001b[0m \u001b[0mProfileReport\u001b[0m\u001b[1;33m\u001b[0m\u001b[1;33m\u001b[0m\u001b[0m\n\u001b[0m\u001b[0;32m      2\u001b[0m \u001b[0mprof\u001b[0m \u001b[1;33m=\u001b[0m \u001b[0mProfileReport\u001b[0m\u001b[1;33m(\u001b[0m\u001b[0mdf2\u001b[0m\u001b[1;33m)\u001b[0m\u001b[1;33m\u001b[0m\u001b[1;33m\u001b[0m\u001b[0m\n",
      "\u001b[1;31mModuleNotFoundError\u001b[0m: No module named 'pandas_profiling'"
     ]
    }
   ],
   "source": [
    "from pandas_profiling import ProfileReport\n",
    "prof = ProfileReport(df2)"
   ]
  },
  {
   "cell_type": "code",
   "execution_count": 26,
   "metadata": {},
   "outputs": [
    {
     "ename": "NameError",
     "evalue": "name 'prof' is not defined",
     "output_type": "error",
     "traceback": [
      "\u001b[1;31m---------------------------------------------------------------------------\u001b[0m",
      "\u001b[1;31mNameError\u001b[0m                                 Traceback (most recent call last)",
      "\u001b[1;32m<ipython-input-26-fb5ea8f9a416>\u001b[0m in \u001b[0;36m<module>\u001b[1;34m\u001b[0m\n\u001b[1;32m----> 1\u001b[1;33m \u001b[0mprof\u001b[0m\u001b[1;33m.\u001b[0m\u001b[0mto_file\u001b[0m\u001b[1;33m(\u001b[0m\u001b[0moutput_file\u001b[0m\u001b[1;33m=\u001b[0m\u001b[1;34m'output.html'\u001b[0m\u001b[1;33m)\u001b[0m\u001b[1;33m\u001b[0m\u001b[1;33m\u001b[0m\u001b[0m\n\u001b[0m",
      "\u001b[1;31mNameError\u001b[0m: name 'prof' is not defined"
     ]
    }
   ],
   "source": [
    "prof.to_file(output_file='output.html')"
   ]
  },
  {
   "cell_type": "code",
   "execution_count": 27,
   "metadata": {},
   "outputs": [
    {
     "data": {
      "text/plain": [
       "ENGINE_POWER           float64\n",
       "ENGINE_COOLANT_TEMP    float64\n",
       "ENGINE_LOAD            float64\n",
       "ENGINE_RPM             float64\n",
       "SPEED                  float64\n",
       "THROTTLE_POS           float64\n",
       "dtype: object"
      ]
     },
     "execution_count": 27,
     "metadata": {},
     "output_type": "execute_result"
    }
   ],
   "source": [
    "df2.dtypes"
   ]
  },
  {
   "cell_type": "code",
   "execution_count": 28,
   "metadata": {},
   "outputs": [],
   "source": [
    "from sklearn.preprocessing import StandardScaler\n"
   ]
  },
  {
   "cell_type": "code",
   "execution_count": 29,
   "metadata": {},
   "outputs": [
    {
     "data": {
      "text/plain": [
       "Index(['ENGINE_POWER', 'ENGINE_COOLANT_TEMP', 'ENGINE_LOAD', 'ENGINE_RPM',\n",
       "       'SPEED', 'THROTTLE_POS'],\n",
       "      dtype='object')"
      ]
     },
     "execution_count": 29,
     "metadata": {},
     "output_type": "execute_result"
    }
   ],
   "source": [
    "df2.columns"
   ]
  },
  {
   "cell_type": "code",
   "execution_count": 30,
   "metadata": {},
   "outputs": [],
   "source": [
    "#features = ['ENGINE_POWER', 'ENGINE_COOLANT_TEMP', 'ENGINE_LOAD', 'ENGINE_RPM',\n",
    "     #  'SPEED', 'THROTTLE_POS']\n",
    "#autoscaler = StandardScaler()\n",
    "#df2[features] = autoscaler.fit_transform(df2[features])"
   ]
  },
  {
   "cell_type": "code",
   "execution_count": 31,
   "metadata": {},
   "outputs": [
    {
     "data": {
      "text/html": [
       "<div>\n",
       "<style scoped>\n",
       "    .dataframe tbody tr th:only-of-type {\n",
       "        vertical-align: middle;\n",
       "    }\n",
       "\n",
       "    .dataframe tbody tr th {\n",
       "        vertical-align: top;\n",
       "    }\n",
       "\n",
       "    .dataframe thead th {\n",
       "        text-align: right;\n",
       "    }\n",
       "</style>\n",
       "<table border=\"1\" class=\"dataframe\">\n",
       "  <thead>\n",
       "    <tr style=\"text-align: right;\">\n",
       "      <th></th>\n",
       "      <th>ENGINE_POWER</th>\n",
       "      <th>ENGINE_COOLANT_TEMP</th>\n",
       "      <th>ENGINE_LOAD</th>\n",
       "      <th>ENGINE_RPM</th>\n",
       "      <th>SPEED</th>\n",
       "      <th>THROTTLE_POS</th>\n",
       "    </tr>\n",
       "  </thead>\n",
       "  <tbody>\n",
       "    <tr>\n",
       "      <th>0</th>\n",
       "      <td>1.4</td>\n",
       "      <td>80.0</td>\n",
       "      <td>0.333</td>\n",
       "      <td>1009.0</td>\n",
       "      <td>0.0</td>\n",
       "      <td>0.251</td>\n",
       "    </tr>\n",
       "    <tr>\n",
       "      <th>1</th>\n",
       "      <td>1.4</td>\n",
       "      <td>80.0</td>\n",
       "      <td>0.325</td>\n",
       "      <td>1003.0</td>\n",
       "      <td>0.0</td>\n",
       "      <td>0.251</td>\n",
       "    </tr>\n",
       "    <tr>\n",
       "      <th>2</th>\n",
       "      <td>1.4</td>\n",
       "      <td>80.0</td>\n",
       "      <td>0.329</td>\n",
       "      <td>995.0</td>\n",
       "      <td>0.0</td>\n",
       "      <td>0.251</td>\n",
       "    </tr>\n",
       "    <tr>\n",
       "      <th>3</th>\n",
       "      <td>1.4</td>\n",
       "      <td>80.0</td>\n",
       "      <td>0.325</td>\n",
       "      <td>1004.0</td>\n",
       "      <td>0.0</td>\n",
       "      <td>0.251</td>\n",
       "    </tr>\n",
       "    <tr>\n",
       "      <th>4</th>\n",
       "      <td>1.4</td>\n",
       "      <td>80.0</td>\n",
       "      <td>0.329</td>\n",
       "      <td>1005.0</td>\n",
       "      <td>0.0</td>\n",
       "      <td>0.251</td>\n",
       "    </tr>\n",
       "  </tbody>\n",
       "</table>\n",
       "</div>"
      ],
      "text/plain": [
       "   ENGINE_POWER  ENGINE_COOLANT_TEMP  ENGINE_LOAD  ENGINE_RPM  SPEED  \\\n",
       "0           1.4                 80.0        0.333      1009.0    0.0   \n",
       "1           1.4                 80.0        0.325      1003.0    0.0   \n",
       "2           1.4                 80.0        0.329       995.0    0.0   \n",
       "3           1.4                 80.0        0.325      1004.0    0.0   \n",
       "4           1.4                 80.0        0.329      1005.0    0.0   \n",
       "\n",
       "   THROTTLE_POS  \n",
       "0         0.251  \n",
       "1         0.251  \n",
       "2         0.251  \n",
       "3         0.251  \n",
       "4         0.251  "
      ]
     },
     "execution_count": 31,
     "metadata": {},
     "output_type": "execute_result"
    }
   ],
   "source": [
    "df2.head()"
   ]
  },
  {
   "cell_type": "code",
   "execution_count": 32,
   "metadata": {},
   "outputs": [
    {
     "data": {
      "text/html": [
       "<div>\n",
       "<style scoped>\n",
       "    .dataframe tbody tr th:only-of-type {\n",
       "        vertical-align: middle;\n",
       "    }\n",
       "\n",
       "    .dataframe tbody tr th {\n",
       "        vertical-align: top;\n",
       "    }\n",
       "\n",
       "    .dataframe thead th {\n",
       "        text-align: right;\n",
       "    }\n",
       "</style>\n",
       "<table border=\"1\" class=\"dataframe\">\n",
       "  <thead>\n",
       "    <tr style=\"text-align: right;\">\n",
       "      <th></th>\n",
       "      <th>ENGINE_POWER</th>\n",
       "      <th>ENGINE_COOLANT_TEMP</th>\n",
       "      <th>ENGINE_LOAD</th>\n",
       "      <th>ENGINE_RPM</th>\n",
       "      <th>SPEED</th>\n",
       "      <th>THROTTLE_POS</th>\n",
       "    </tr>\n",
       "  </thead>\n",
       "  <tbody>\n",
       "    <tr>\n",
       "      <th>47497</th>\n",
       "      <td>1.6</td>\n",
       "      <td>99.0</td>\n",
       "      <td>0.059</td>\n",
       "      <td>1029.0</td>\n",
       "      <td>50.0</td>\n",
       "      <td>0.047</td>\n",
       "    </tr>\n",
       "    <tr>\n",
       "      <th>47499</th>\n",
       "      <td>1.6</td>\n",
       "      <td>94.0</td>\n",
       "      <td>0.412</td>\n",
       "      <td>2054.0</td>\n",
       "      <td>32.0</td>\n",
       "      <td>0.063</td>\n",
       "    </tr>\n",
       "    <tr>\n",
       "      <th>47504</th>\n",
       "      <td>1.6</td>\n",
       "      <td>94.0</td>\n",
       "      <td>0.196</td>\n",
       "      <td>1185.0</td>\n",
       "      <td>38.0</td>\n",
       "      <td>0.173</td>\n",
       "    </tr>\n",
       "    <tr>\n",
       "      <th>47505</th>\n",
       "      <td>1.6</td>\n",
       "      <td>96.0</td>\n",
       "      <td>0.251</td>\n",
       "      <td>1325.0</td>\n",
       "      <td>45.0</td>\n",
       "      <td>0.149</td>\n",
       "    </tr>\n",
       "    <tr>\n",
       "      <th>47512</th>\n",
       "      <td>1.6</td>\n",
       "      <td>99.0</td>\n",
       "      <td>0.055</td>\n",
       "      <td>769.0</td>\n",
       "      <td>0.0</td>\n",
       "      <td>0.082</td>\n",
       "    </tr>\n",
       "  </tbody>\n",
       "</table>\n",
       "</div>"
      ],
      "text/plain": [
       "       ENGINE_POWER  ENGINE_COOLANT_TEMP  ENGINE_LOAD  ENGINE_RPM  SPEED  \\\n",
       "47497           1.6                 99.0        0.059      1029.0   50.0   \n",
       "47499           1.6                 94.0        0.412      2054.0   32.0   \n",
       "47504           1.6                 94.0        0.196      1185.0   38.0   \n",
       "47505           1.6                 96.0        0.251      1325.0   45.0   \n",
       "47512           1.6                 99.0        0.055       769.0    0.0   \n",
       "\n",
       "       THROTTLE_POS  \n",
       "47497         0.047  \n",
       "47499         0.063  \n",
       "47504         0.173  \n",
       "47505         0.149  \n",
       "47512         0.082  "
      ]
     },
     "execution_count": 32,
     "metadata": {},
     "output_type": "execute_result"
    }
   ],
   "source": [
    "df2.tail()"
   ]
  },
  {
   "cell_type": "code",
   "execution_count": 33,
   "metadata": {},
   "outputs": [
    {
     "data": {
      "image/png": "[encoded data removed]",
      "text/plain": [
       "<Figure size 720x576 with 1 Axes>"
      ]
     },
     "metadata": {
      "needs_background": "light"
     },
     "output_type": "display_data"
    }
   ],
   "source": [
    "#optimum number of clusters using elbow curve\n",
    "from sklearn.cluster import KMeans\n",
    "\n",
    "wcss = []\n",
    "\n",
    "for i in range(1, 10):\n",
    "    \n",
    "    kmeans = KMeans(n_clusters = i, init = 'k-means++', random_state = 40)\n",
    "    kmeans.fit(df2)\n",
    "    \n",
    "    wcss.append(kmeans.inertia_)\n",
    "\n",
    "plt.figure(figsize=(10, 8))\n",
    "plt.plot(range(1, 10), wcss)\n",
    "plt.title('The Elbow Method')\n",
    "plt.xlabel('Number of clusters')\n",
    "plt.ylabel('WCSS')\n",
    "plt.show()"
   ]
  },
  {
   "cell_type": "code",
   "execution_count": 34,
   "metadata": {},
   "outputs": [
    {
     "data": {
      "text/plain": [
       "KMeans(algorithm='auto', copy_x=True, init='k-means++', max_iter=300,\n",
       "       n_clusters=5, n_init=10, n_jobs=None, precompute_distances='auto',\n",
       "       random_state=123, tol=0.0001, verbose=0)"
      ]
     },
     "execution_count": 34,
     "metadata": {},
     "output_type": "execute_result"
    }
   ],
   "source": [
    "kmeans = KMeans(n_clusters = 5, init = 'k-means++', random_state = 123)\n",
    "\n",
    "kmeans.fit(df2)"
   ]
  },
  {
   "cell_type": "code",
   "execution_count": 35,
   "metadata": {},
   "outputs": [
    {
     "data": {
      "text/plain": [
       "array([1, 1, 1, ..., 4, 4, 1])"
      ]
     },
     "execution_count": 35,
     "metadata": {},
     "output_type": "execute_result"
    }
   ],
   "source": [
    "identified_clusters = kmeans.fit_predict(df2)\n",
    "identified_clusters"
   ]
  },
  {
   "cell_type": "code",
   "execution_count": 36,
   "metadata": {},
   "outputs": [
    {
     "name": "stdout",
     "output_type": "stream",
     "text": [
      "[[   0 5153]\n",
      " [   1 8447]\n",
      " [   2 7358]\n",
      " [   3 1982]\n",
      " [   4 6217]]\n"
     ]
    }
   ],
   "source": [
    "#to know value counts in array\n",
    "import numpy as np\n",
    "\n",
    "\n",
    "unique, counts = np.unique(identified_clusters, return_counts=True)\n",
    "\n",
    "print (np.asarray((unique, counts)).T)"
   ]
  },
  {
   "cell_type": "code",
   "execution_count": 37,
   "metadata": {},
   "outputs": [
    {
     "name": "stdout",
     "output_type": "stream",
     "text": [
      "Requirement already satisfied: kmodes in c:\\users\\swati\\anaconda3\\lib\\site-packages (0.10.2)\n",
      "Requirement already satisfied: scikit-learn>=0.19.0 in c:\\users\\swati\\anaconda3\\lib\\site-packages (from kmodes) (0.22.1)\n",
      "Requirement already satisfied: joblib>=0.11 in c:\\users\\swati\\anaconda3\\lib\\site-packages (from kmodes) (0.14.1)\n",
      "Requirement already satisfied: scipy>=0.13.3 in c:\\users\\swati\\anaconda3\\lib\\site-packages (from kmodes) (1.4.1)\n",
      "Requirement already satisfied: numpy>=1.10.4 in c:\\users\\swati\\anaconda3\\lib\\site-packages (from kmodes) (1.18.1)\n",
      "Note: you may need to restart the kernel to use updated packages.\n"
     ]
    }
   ],
   "source": [
    "pip install kmodes"
   ]
  },
  {
   "cell_type": "code",
   "execution_count": 38,
   "metadata": {},
   "outputs": [],
   "source": [
    "from kmodes.kprototypes import KPrototypes\n",
    "from sklearn.metrics import davies_bouldin_score"
   ]
  },
  {
   "cell_type": "code",
   "execution_count": 39,
   "metadata": {},
   "outputs": [
    {
     "data": {
      "text/html": [
       "<div>\n",
       "<style scoped>\n",
       "    .dataframe tbody tr th:only-of-type {\n",
       "        vertical-align: middle;\n",
       "    }\n",
       "\n",
       "    .dataframe tbody tr th {\n",
       "        vertical-align: top;\n",
       "    }\n",
       "\n",
       "    .dataframe thead th {\n",
       "        text-align: right;\n",
       "    }\n",
       "</style>\n",
       "<table border=\"1\" class=\"dataframe\">\n",
       "  <thead>\n",
       "    <tr style=\"text-align: right;\">\n",
       "      <th></th>\n",
       "      <th>ENGINE_POWER</th>\n",
       "      <th>ENGINE_COOLANT_TEMP</th>\n",
       "      <th>ENGINE_LOAD</th>\n",
       "      <th>ENGINE_RPM</th>\n",
       "      <th>SPEED</th>\n",
       "      <th>THROTTLE_POS</th>\n",
       "    </tr>\n",
       "  </thead>\n",
       "  <tbody>\n",
       "    <tr>\n",
       "      <th>0</th>\n",
       "      <td>1.4</td>\n",
       "      <td>80.0</td>\n",
       "      <td>0.333</td>\n",
       "      <td>1009.0</td>\n",
       "      <td>0.0</td>\n",
       "      <td>0.251</td>\n",
       "    </tr>\n",
       "    <tr>\n",
       "      <th>1</th>\n",
       "      <td>1.4</td>\n",
       "      <td>80.0</td>\n",
       "      <td>0.325</td>\n",
       "      <td>1003.0</td>\n",
       "      <td>0.0</td>\n",
       "      <td>0.251</td>\n",
       "    </tr>\n",
       "    <tr>\n",
       "      <th>2</th>\n",
       "      <td>1.4</td>\n",
       "      <td>80.0</td>\n",
       "      <td>0.329</td>\n",
       "      <td>995.0</td>\n",
       "      <td>0.0</td>\n",
       "      <td>0.251</td>\n",
       "    </tr>\n",
       "  </tbody>\n",
       "</table>\n",
       "</div>"
      ],
      "text/plain": [
       "   ENGINE_POWER  ENGINE_COOLANT_TEMP  ENGINE_LOAD  ENGINE_RPM  SPEED  \\\n",
       "0           1.4                 80.0        0.333      1009.0    0.0   \n",
       "1           1.4                 80.0        0.325      1003.0    0.0   \n",
       "2           1.4                 80.0        0.329       995.0    0.0   \n",
       "\n",
       "   THROTTLE_POS  \n",
       "0         0.251  \n",
       "1         0.251  \n",
       "2         0.251  "
      ]
     },
     "execution_count": 39,
     "metadata": {},
     "output_type": "execute_result"
    }
   ],
   "source": [
    "df2.head(3)"
   ]
  },
  {
   "cell_type": "code",
   "execution_count": 40,
   "metadata": {},
   "outputs": [
    {
     "data": {
      "text/plain": [
       "0.5137220810845159"
      ]
     },
     "execution_count": 40,
     "metadata": {},
     "output_type": "execute_result"
    }
   ],
   "source": [
    "labels = kmeans.labels_\n",
    "davies_bouldin_score(df2, labels)"
   ]
  },
  {
   "cell_type": "code",
   "execution_count": 41,
   "metadata": {},
   "outputs": [
    {
     "name": "stderr",
     "output_type": "stream",
     "text": [
      "C:\\Users\\Swati\\anaconda3\\lib\\site-packages\\ipykernel_launcher.py:1: SettingWithCopyWarning: \n",
      "A value is trying to be set on a copy of a slice from a DataFrame.\n",
      "Try using .loc[row_indexer,col_indexer] = value instead\n",
      "\n",
      "See the caveats in the documentation: https://pandas.pydata.org/pandas-docs/stable/user_guide/indexing.html#returning-a-view-versus-a-copy\n",
      "  \"\"\"Entry point for launching an IPython kernel.\n"
     ]
    },
    {
     "data": {
      "text/plain": [
       "0        1\n",
       "1        1\n",
       "2        1\n",
       "3        1\n",
       "4        1\n",
       "        ..\n",
       "47497    1\n",
       "47499    0\n",
       "47504    4\n",
       "47505    4\n",
       "47512    1\n",
       "Name: Cluster, Length: 29157, dtype: int32"
      ]
     },
     "execution_count": 41,
     "metadata": {},
     "output_type": "execute_result"
    }
   ],
   "source": [
    "df2['Cluster'] = identified_clusters\n",
    "df2['Cluster']"
   ]
  },
  {
   "cell_type": "code",
   "execution_count": 42,
   "metadata": {},
   "outputs": [
    {
     "data": {
      "text/html": [
       "<div>\n",
       "<style scoped>\n",
       "    .dataframe tbody tr th:only-of-type {\n",
       "        vertical-align: middle;\n",
       "    }\n",
       "\n",
       "    .dataframe tbody tr th {\n",
       "        vertical-align: top;\n",
       "    }\n",
       "\n",
       "    .dataframe thead th {\n",
       "        text-align: right;\n",
       "    }\n",
       "</style>\n",
       "<table border=\"1\" class=\"dataframe\">\n",
       "  <thead>\n",
       "    <tr style=\"text-align: right;\">\n",
       "      <th></th>\n",
       "      <th>ENGINE_POWER</th>\n",
       "      <th>ENGINE_COOLANT_TEMP</th>\n",
       "      <th>ENGINE_LOAD</th>\n",
       "      <th>ENGINE_RPM</th>\n",
       "      <th>SPEED</th>\n",
       "      <th>THROTTLE_POS</th>\n",
       "      <th>Cluster</th>\n",
       "    </tr>\n",
       "  </thead>\n",
       "  <tbody>\n",
       "    <tr>\n",
       "      <th>0</th>\n",
       "      <td>1.4</td>\n",
       "      <td>80.0</td>\n",
       "      <td>0.333</td>\n",
       "      <td>1009.0</td>\n",
       "      <td>0.0</td>\n",
       "      <td>0.251</td>\n",
       "      <td>1</td>\n",
       "    </tr>\n",
       "    <tr>\n",
       "      <th>1</th>\n",
       "      <td>1.4</td>\n",
       "      <td>80.0</td>\n",
       "      <td>0.325</td>\n",
       "      <td>1003.0</td>\n",
       "      <td>0.0</td>\n",
       "      <td>0.251</td>\n",
       "      <td>1</td>\n",
       "    </tr>\n",
       "    <tr>\n",
       "      <th>2</th>\n",
       "      <td>1.4</td>\n",
       "      <td>80.0</td>\n",
       "      <td>0.329</td>\n",
       "      <td>995.0</td>\n",
       "      <td>0.0</td>\n",
       "      <td>0.251</td>\n",
       "      <td>1</td>\n",
       "    </tr>\n",
       "    <tr>\n",
       "      <th>3</th>\n",
       "      <td>1.4</td>\n",
       "      <td>80.0</td>\n",
       "      <td>0.325</td>\n",
       "      <td>1004.0</td>\n",
       "      <td>0.0</td>\n",
       "      <td>0.251</td>\n",
       "      <td>1</td>\n",
       "    </tr>\n",
       "    <tr>\n",
       "      <th>4</th>\n",
       "      <td>1.4</td>\n",
       "      <td>80.0</td>\n",
       "      <td>0.329</td>\n",
       "      <td>1005.0</td>\n",
       "      <td>0.0</td>\n",
       "      <td>0.251</td>\n",
       "      <td>1</td>\n",
       "    </tr>\n",
       "  </tbody>\n",
       "</table>\n",
       "</div>"
      ],
      "text/plain": [
       "   ENGINE_POWER  ENGINE_COOLANT_TEMP  ENGINE_LOAD  ENGINE_RPM  SPEED  \\\n",
       "0           1.4                 80.0        0.333      1009.0    0.0   \n",
       "1           1.4                 80.0        0.325      1003.0    0.0   \n",
       "2           1.4                 80.0        0.329       995.0    0.0   \n",
       "3           1.4                 80.0        0.325      1004.0    0.0   \n",
       "4           1.4                 80.0        0.329      1005.0    0.0   \n",
       "\n",
       "   THROTTLE_POS  Cluster  \n",
       "0         0.251        1  \n",
       "1         0.251        1  \n",
       "2         0.251        1  \n",
       "3         0.251        1  \n",
       "4         0.251        1  "
      ]
     },
     "execution_count": 42,
     "metadata": {},
     "output_type": "execute_result"
    }
   ],
   "source": [
    "df2.head()"
   ]
  },
  {
   "cell_type": "code",
   "execution_count": 43,
   "metadata": {},
   "outputs": [
    {
     "data": {
      "text/html": [
       "<div>\n",
       "<style scoped>\n",
       "    .dataframe tbody tr th:only-of-type {\n",
       "        vertical-align: middle;\n",
       "    }\n",
       "\n",
       "    .dataframe tbody tr th {\n",
       "        vertical-align: top;\n",
       "    }\n",
       "\n",
       "    .dataframe thead th {\n",
       "        text-align: right;\n",
       "    }\n",
       "</style>\n",
       "<table border=\"1\" class=\"dataframe\">\n",
       "  <thead>\n",
       "    <tr style=\"text-align: right;\">\n",
       "      <th></th>\n",
       "      <th>ENGINE_POWER</th>\n",
       "      <th>ENGINE_COOLANT_TEMP</th>\n",
       "      <th>ENGINE_LOAD</th>\n",
       "      <th>ENGINE_RPM</th>\n",
       "      <th>SPEED</th>\n",
       "      <th>THROTTLE_POS</th>\n",
       "      <th>Cluster</th>\n",
       "    </tr>\n",
       "  </thead>\n",
       "  <tbody>\n",
       "    <tr>\n",
       "      <th>47497</th>\n",
       "      <td>1.6</td>\n",
       "      <td>99.0</td>\n",
       "      <td>0.059</td>\n",
       "      <td>1029.0</td>\n",
       "      <td>50.0</td>\n",
       "      <td>0.047</td>\n",
       "      <td>1</td>\n",
       "    </tr>\n",
       "    <tr>\n",
       "      <th>47499</th>\n",
       "      <td>1.6</td>\n",
       "      <td>94.0</td>\n",
       "      <td>0.412</td>\n",
       "      <td>2054.0</td>\n",
       "      <td>32.0</td>\n",
       "      <td>0.063</td>\n",
       "      <td>0</td>\n",
       "    </tr>\n",
       "    <tr>\n",
       "      <th>47504</th>\n",
       "      <td>1.6</td>\n",
       "      <td>94.0</td>\n",
       "      <td>0.196</td>\n",
       "      <td>1185.0</td>\n",
       "      <td>38.0</td>\n",
       "      <td>0.173</td>\n",
       "      <td>4</td>\n",
       "    </tr>\n",
       "    <tr>\n",
       "      <th>47505</th>\n",
       "      <td>1.6</td>\n",
       "      <td>96.0</td>\n",
       "      <td>0.251</td>\n",
       "      <td>1325.0</td>\n",
       "      <td>45.0</td>\n",
       "      <td>0.149</td>\n",
       "      <td>4</td>\n",
       "    </tr>\n",
       "    <tr>\n",
       "      <th>47512</th>\n",
       "      <td>1.6</td>\n",
       "      <td>99.0</td>\n",
       "      <td>0.055</td>\n",
       "      <td>769.0</td>\n",
       "      <td>0.0</td>\n",
       "      <td>0.082</td>\n",
       "      <td>1</td>\n",
       "    </tr>\n",
       "  </tbody>\n",
       "</table>\n",
       "</div>"
      ],
      "text/plain": [
       "       ENGINE_POWER  ENGINE_COOLANT_TEMP  ENGINE_LOAD  ENGINE_RPM  SPEED  \\\n",
       "47497           1.6                 99.0        0.059      1029.0   50.0   \n",
       "47499           1.6                 94.0        0.412      2054.0   32.0   \n",
       "47504           1.6                 94.0        0.196      1185.0   38.0   \n",
       "47505           1.6                 96.0        0.251      1325.0   45.0   \n",
       "47512           1.6                 99.0        0.055       769.0    0.0   \n",
       "\n",
       "       THROTTLE_POS  Cluster  \n",
       "47497         0.047        1  \n",
       "47499         0.063        0  \n",
       "47504         0.173        4  \n",
       "47505         0.149        4  \n",
       "47512         0.082        1  "
      ]
     },
     "execution_count": 43,
     "metadata": {},
     "output_type": "execute_result"
    }
   ],
   "source": [
    "df2.tail()"
   ]
  },
  {
   "cell_type": "code",
   "execution_count": 44,
   "metadata": {},
   "outputs": [
    {
     "data": {
      "text/plain": [
       "1    8447\n",
       "2    7358\n",
       "4    6217\n",
       "0    5153\n",
       "3    1982\n",
       "Name: Cluster, dtype: int64"
      ]
     },
     "execution_count": 44,
     "metadata": {},
     "output_type": "execute_result"
    }
   ],
   "source": [
    "df2.Cluster.value_counts()"
   ]
  },
  {
   "cell_type": "code",
   "execution_count": 45,
   "metadata": {
    "collapsed": true
   },
   "outputs": [
    {
     "ename": "ModuleNotFoundError",
     "evalue": "No module named 'pandas_profiling'",
     "output_type": "error",
     "traceback": [
      "\u001b[1;31m---------------------------------------------------------------------------\u001b[0m",
      "\u001b[1;31mModuleNotFoundError\u001b[0m                       Traceback (most recent call last)",
      "\u001b[1;32m<ipython-input-45-f9b4a7fed215>\u001b[0m in \u001b[0;36m<module>\u001b[1;34m\u001b[0m\n\u001b[1;32m----> 1\u001b[1;33m \u001b[1;32mimport\u001b[0m \u001b[0mpandas_profiling\u001b[0m\u001b[1;33m\u001b[0m\u001b[1;33m\u001b[0m\u001b[0m\n\u001b[0m\u001b[0;32m      2\u001b[0m \u001b[1;33m\u001b[0m\u001b[0m\n\u001b[0;32m      3\u001b[0m \u001b[0mpandas_profiling\u001b[0m\u001b[1;33m.\u001b[0m\u001b[0mProfileReport\u001b[0m\u001b[1;33m(\u001b[0m\u001b[0mdf2\u001b[0m\u001b[1;33m)\u001b[0m\u001b[1;33m\u001b[0m\u001b[1;33m\u001b[0m\u001b[0m\n",
      "\u001b[1;31mModuleNotFoundError\u001b[0m: No module named 'pandas_profiling'"
     ]
    }
   ],
   "source": [
    "import pandas_profiling\n",
    "\n",
    "pandas_profiling.ProfileReport(df2) "
   ]
  },
  {
   "cell_type": "code",
   "execution_count": 45,
   "metadata": {},
   "outputs": [
    {
     "name": "stderr",
     "output_type": "stream",
     "text": [
      "C:\\Users\\Swati\\anaconda3\\lib\\site-packages\\ipykernel_launcher.py:5: SettingWithCopyWarning: \n",
      "A value is trying to be set on a copy of a slice from a DataFrame\n",
      "\n",
      "See the caveats in the documentation: https://pandas.pydata.org/pandas-docs/stable/user_guide/indexing.html#returning-a-view-versus-a-copy\n",
      "  \"\"\"\n",
      "C:\\Users\\Swati\\anaconda3\\lib\\site-packages\\IPython\\core\\interactiveshell.py:3331: SettingWithCopyWarning: \n",
      "A value is trying to be set on a copy of a slice from a DataFrame\n",
      "\n",
      "See the caveats in the documentation: https://pandas.pydata.org/pandas-docs/stable/user_guide/indexing.html#returning-a-view-versus-a-copy\n",
      "  exec(code_obj, self.user_global_ns, self.user_ns)\n"
     ]
    }
   ],
   "source": [
    "df2.insert(7, \"Relative_RPM\", 0.0)\n",
    "rpm_max= df2['ENGINE_RPM'].max()\n",
    "\n",
    "for i in df2.index:\n",
    "    df2['Relative_RPM'][i]= df2['ENGINE_RPM'][i]/rpm_max"
   ]
  },
  {
   "cell_type": "code",
   "execution_count": 46,
   "metadata": {},
   "outputs": [
    {
     "name": "stderr",
     "output_type": "stream",
     "text": [
      "C:\\Users\\Swati\\anaconda3\\lib\\site-packages\\ipykernel_launcher.py:4: SettingWithCopyWarning: \n",
      "A value is trying to be set on a copy of a slice from a DataFrame\n",
      "\n",
      "See the caveats in the documentation: https://pandas.pydata.org/pandas-docs/stable/user_guide/indexing.html#returning-a-view-versus-a-copy\n",
      "  after removing the cwd from sys.path.\n"
     ]
    }
   ],
   "source": [
    "df2.insert(8, \"Relative_Speed\",0.0)\n",
    "speed_max= df2['SPEED'].max()\n",
    "for i in df2.index:\n",
    "    df2['Relative_Speed'][i]= df2['SPEED'][i]/speed_max"
   ]
  },
  {
   "cell_type": "code",
   "execution_count": 47,
   "metadata": {},
   "outputs": [
    {
     "data": {
      "text/html": [
       "<div>\n",
       "<style scoped>\n",
       "    .dataframe tbody tr th:only-of-type {\n",
       "        vertical-align: middle;\n",
       "    }\n",
       "\n",
       "    .dataframe tbody tr th {\n",
       "        vertical-align: top;\n",
       "    }\n",
       "\n",
       "    .dataframe thead th {\n",
       "        text-align: right;\n",
       "    }\n",
       "</style>\n",
       "<table border=\"1\" class=\"dataframe\">\n",
       "  <thead>\n",
       "    <tr style=\"text-align: right;\">\n",
       "      <th></th>\n",
       "      <th>ENGINE_POWER</th>\n",
       "      <th>ENGINE_COOLANT_TEMP</th>\n",
       "      <th>ENGINE_LOAD</th>\n",
       "      <th>ENGINE_RPM</th>\n",
       "      <th>SPEED</th>\n",
       "      <th>THROTTLE_POS</th>\n",
       "      <th>Cluster</th>\n",
       "      <th>Relative_RPM</th>\n",
       "      <th>Relative_Speed</th>\n",
       "    </tr>\n",
       "  </thead>\n",
       "  <tbody>\n",
       "    <tr>\n",
       "      <th>0</th>\n",
       "      <td>1.4</td>\n",
       "      <td>80.0</td>\n",
       "      <td>0.333</td>\n",
       "      <td>1009.0</td>\n",
       "      <td>0.0</td>\n",
       "      <td>0.251</td>\n",
       "      <td>1</td>\n",
       "      <td>0.264413</td>\n",
       "      <td>0.0</td>\n",
       "    </tr>\n",
       "    <tr>\n",
       "      <th>1</th>\n",
       "      <td>1.4</td>\n",
       "      <td>80.0</td>\n",
       "      <td>0.325</td>\n",
       "      <td>1003.0</td>\n",
       "      <td>0.0</td>\n",
       "      <td>0.251</td>\n",
       "      <td>1</td>\n",
       "      <td>0.262841</td>\n",
       "      <td>0.0</td>\n",
       "    </tr>\n",
       "    <tr>\n",
       "      <th>2</th>\n",
       "      <td>1.4</td>\n",
       "      <td>80.0</td>\n",
       "      <td>0.329</td>\n",
       "      <td>995.0</td>\n",
       "      <td>0.0</td>\n",
       "      <td>0.251</td>\n",
       "      <td>1</td>\n",
       "      <td>0.260744</td>\n",
       "      <td>0.0</td>\n",
       "    </tr>\n",
       "    <tr>\n",
       "      <th>3</th>\n",
       "      <td>1.4</td>\n",
       "      <td>80.0</td>\n",
       "      <td>0.325</td>\n",
       "      <td>1004.0</td>\n",
       "      <td>0.0</td>\n",
       "      <td>0.251</td>\n",
       "      <td>1</td>\n",
       "      <td>0.263103</td>\n",
       "      <td>0.0</td>\n",
       "    </tr>\n",
       "    <tr>\n",
       "      <th>4</th>\n",
       "      <td>1.4</td>\n",
       "      <td>80.0</td>\n",
       "      <td>0.329</td>\n",
       "      <td>1005.0</td>\n",
       "      <td>0.0</td>\n",
       "      <td>0.251</td>\n",
       "      <td>1</td>\n",
       "      <td>0.263365</td>\n",
       "      <td>0.0</td>\n",
       "    </tr>\n",
       "    <tr>\n",
       "      <th>5</th>\n",
       "      <td>1.4</td>\n",
       "      <td>81.0</td>\n",
       "      <td>0.329</td>\n",
       "      <td>1019.0</td>\n",
       "      <td>0.0</td>\n",
       "      <td>0.251</td>\n",
       "      <td>1</td>\n",
       "      <td>0.267034</td>\n",
       "      <td>0.0</td>\n",
       "    </tr>\n",
       "    <tr>\n",
       "      <th>6</th>\n",
       "      <td>1.4</td>\n",
       "      <td>81.0</td>\n",
       "      <td>0.333</td>\n",
       "      <td>1002.0</td>\n",
       "      <td>0.0</td>\n",
       "      <td>0.251</td>\n",
       "      <td>1</td>\n",
       "      <td>0.262579</td>\n",
       "      <td>0.0</td>\n",
       "    </tr>\n",
       "    <tr>\n",
       "      <th>7</th>\n",
       "      <td>1.4</td>\n",
       "      <td>81.0</td>\n",
       "      <td>0.333</td>\n",
       "      <td>1001.0</td>\n",
       "      <td>0.0</td>\n",
       "      <td>0.251</td>\n",
       "      <td>1</td>\n",
       "      <td>0.262317</td>\n",
       "      <td>0.0</td>\n",
       "    </tr>\n",
       "    <tr>\n",
       "      <th>8</th>\n",
       "      <td>1.4</td>\n",
       "      <td>81.0</td>\n",
       "      <td>0.333</td>\n",
       "      <td>1004.0</td>\n",
       "      <td>0.0</td>\n",
       "      <td>0.251</td>\n",
       "      <td>1</td>\n",
       "      <td>0.263103</td>\n",
       "      <td>0.0</td>\n",
       "    </tr>\n",
       "    <tr>\n",
       "      <th>9</th>\n",
       "      <td>1.4</td>\n",
       "      <td>81.0</td>\n",
       "      <td>0.329</td>\n",
       "      <td>1010.0</td>\n",
       "      <td>0.0</td>\n",
       "      <td>0.251</td>\n",
       "      <td>1</td>\n",
       "      <td>0.264675</td>\n",
       "      <td>0.0</td>\n",
       "    </tr>\n",
       "  </tbody>\n",
       "</table>\n",
       "</div>"
      ],
      "text/plain": [
       "   ENGINE_POWER  ENGINE_COOLANT_TEMP  ENGINE_LOAD  ENGINE_RPM  SPEED  \\\n",
       "0           1.4                 80.0        0.333      1009.0    0.0   \n",
       "1           1.4                 80.0        0.325      1003.0    0.0   \n",
       "2           1.4                 80.0        0.329       995.0    0.0   \n",
       "3           1.4                 80.0        0.325      1004.0    0.0   \n",
       "4           1.4                 80.0        0.329      1005.0    0.0   \n",
       "5           1.4                 81.0        0.329      1019.0    0.0   \n",
       "6           1.4                 81.0        0.333      1002.0    0.0   \n",
       "7           1.4                 81.0        0.333      1001.0    0.0   \n",
       "8           1.4                 81.0        0.333      1004.0    0.0   \n",
       "9           1.4                 81.0        0.329      1010.0    0.0   \n",
       "\n",
       "   THROTTLE_POS  Cluster  Relative_RPM  Relative_Speed  \n",
       "0         0.251        1      0.264413             0.0  \n",
       "1         0.251        1      0.262841             0.0  \n",
       "2         0.251        1      0.260744             0.0  \n",
       "3         0.251        1      0.263103             0.0  \n",
       "4         0.251        1      0.263365             0.0  \n",
       "5         0.251        1      0.267034             0.0  \n",
       "6         0.251        1      0.262579             0.0  \n",
       "7         0.251        1      0.262317             0.0  \n",
       "8         0.251        1      0.263103             0.0  \n",
       "9         0.251        1      0.264675             0.0  "
      ]
     },
     "execution_count": 47,
     "metadata": {},
     "output_type": "execute_result"
    }
   ],
   "source": [
    "df2.head(10)"
   ]
  },
  {
   "cell_type": "code",
   "execution_count": 48,
   "metadata": {},
   "outputs": [],
   "source": [
    "df2.insert(9, \"Rev. Speed/Rev. RPM\",0.0)"
   ]
  },
  {
   "cell_type": "code",
   "execution_count": 49,
   "metadata": {},
   "outputs": [
    {
     "name": "stderr",
     "output_type": "stream",
     "text": [
      "C:\\Users\\Swati\\anaconda3\\lib\\site-packages\\ipykernel_launcher.py:2: SettingWithCopyWarning: \n",
      "A value is trying to be set on a copy of a slice from a DataFrame\n",
      "\n",
      "See the caveats in the documentation: https://pandas.pydata.org/pandas-docs/stable/user_guide/indexing.html#returning-a-view-versus-a-copy\n",
      "  \n",
      "C:\\Users\\Swati\\anaconda3\\lib\\site-packages\\IPython\\core\\interactiveshell.py:3331: SettingWithCopyWarning: \n",
      "A value is trying to be set on a copy of a slice from a DataFrame\n",
      "\n",
      "See the caveats in the documentation: https://pandas.pydata.org/pandas-docs/stable/user_guide/indexing.html#returning-a-view-versus-a-copy\n",
      "  exec(code_obj, self.user_global_ns, self.user_ns)\n"
     ]
    }
   ],
   "source": [
    "for i in df2.index:\n",
    "    df2['Rev. Speed/Rev. RPM'][i]= df2['Relative_Speed'][i]/df2['Relative_RPM'][i]"
   ]
  },
  {
   "cell_type": "code",
   "execution_count": 50,
   "metadata": {},
   "outputs": [],
   "source": [
    "df2.insert(10, \"Rev_RPM/Throttle_Pos.\",0.0)"
   ]
  },
  {
   "cell_type": "code",
   "execution_count": 51,
   "metadata": {},
   "outputs": [
    {
     "name": "stderr",
     "output_type": "stream",
     "text": [
      "C:\\Users\\Swati\\anaconda3\\lib\\site-packages\\ipykernel_launcher.py:2: SettingWithCopyWarning: \n",
      "A value is trying to be set on a copy of a slice from a DataFrame\n",
      "\n",
      "See the caveats in the documentation: https://pandas.pydata.org/pandas-docs/stable/user_guide/indexing.html#returning-a-view-versus-a-copy\n",
      "  \n"
     ]
    }
   ],
   "source": [
    "for i in df2.index:\n",
    "    df2['Rev_RPM/Throttle_Pos.'][i]= df2['Relative_RPM'][i]/df2['THROTTLE_POS'][i]"
   ]
  },
  {
   "cell_type": "code",
   "execution_count": 52,
   "metadata": {},
   "outputs": [
    {
     "data": {
      "text/html": [
       "<div>\n",
       "<style scoped>\n",
       "    .dataframe tbody tr th:only-of-type {\n",
       "        vertical-align: middle;\n",
       "    }\n",
       "\n",
       "    .dataframe tbody tr th {\n",
       "        vertical-align: top;\n",
       "    }\n",
       "\n",
       "    .dataframe thead th {\n",
       "        text-align: right;\n",
       "    }\n",
       "</style>\n",
       "<table border=\"1\" class=\"dataframe\">\n",
       "  <thead>\n",
       "    <tr style=\"text-align: right;\">\n",
       "      <th></th>\n",
       "      <th>ENGINE_POWER</th>\n",
       "      <th>ENGINE_COOLANT_TEMP</th>\n",
       "      <th>ENGINE_LOAD</th>\n",
       "      <th>ENGINE_RPM</th>\n",
       "      <th>SPEED</th>\n",
       "      <th>THROTTLE_POS</th>\n",
       "      <th>Cluster</th>\n",
       "      <th>Relative_RPM</th>\n",
       "      <th>Relative_Speed</th>\n",
       "      <th>Rev. Speed/Rev. RPM</th>\n",
       "      <th>Rev_RPM/Throttle_Pos.</th>\n",
       "    </tr>\n",
       "  </thead>\n",
       "  <tbody>\n",
       "    <tr>\n",
       "      <th>0</th>\n",
       "      <td>1.4</td>\n",
       "      <td>80.0</td>\n",
       "      <td>0.333</td>\n",
       "      <td>1009.0</td>\n",
       "      <td>0.0</td>\n",
       "      <td>0.251</td>\n",
       "      <td>1</td>\n",
       "      <td>0.264413</td>\n",
       "      <td>0.0</td>\n",
       "      <td>0.0</td>\n",
       "      <td>1.053438</td>\n",
       "    </tr>\n",
       "    <tr>\n",
       "      <th>1</th>\n",
       "      <td>1.4</td>\n",
       "      <td>80.0</td>\n",
       "      <td>0.325</td>\n",
       "      <td>1003.0</td>\n",
       "      <td>0.0</td>\n",
       "      <td>0.251</td>\n",
       "      <td>1</td>\n",
       "      <td>0.262841</td>\n",
       "      <td>0.0</td>\n",
       "      <td>0.0</td>\n",
       "      <td>1.047174</td>\n",
       "    </tr>\n",
       "    <tr>\n",
       "      <th>2</th>\n",
       "      <td>1.4</td>\n",
       "      <td>80.0</td>\n",
       "      <td>0.329</td>\n",
       "      <td>995.0</td>\n",
       "      <td>0.0</td>\n",
       "      <td>0.251</td>\n",
       "      <td>1</td>\n",
       "      <td>0.260744</td>\n",
       "      <td>0.0</td>\n",
       "      <td>0.0</td>\n",
       "      <td>1.038822</td>\n",
       "    </tr>\n",
       "    <tr>\n",
       "      <th>3</th>\n",
       "      <td>1.4</td>\n",
       "      <td>80.0</td>\n",
       "      <td>0.325</td>\n",
       "      <td>1004.0</td>\n",
       "      <td>0.0</td>\n",
       "      <td>0.251</td>\n",
       "      <td>1</td>\n",
       "      <td>0.263103</td>\n",
       "      <td>0.0</td>\n",
       "      <td>0.0</td>\n",
       "      <td>1.048218</td>\n",
       "    </tr>\n",
       "    <tr>\n",
       "      <th>4</th>\n",
       "      <td>1.4</td>\n",
       "      <td>80.0</td>\n",
       "      <td>0.329</td>\n",
       "      <td>1005.0</td>\n",
       "      <td>0.0</td>\n",
       "      <td>0.251</td>\n",
       "      <td>1</td>\n",
       "      <td>0.263365</td>\n",
       "      <td>0.0</td>\n",
       "      <td>0.0</td>\n",
       "      <td>1.049262</td>\n",
       "    </tr>\n",
       "    <tr>\n",
       "      <th>5</th>\n",
       "      <td>1.4</td>\n",
       "      <td>81.0</td>\n",
       "      <td>0.329</td>\n",
       "      <td>1019.0</td>\n",
       "      <td>0.0</td>\n",
       "      <td>0.251</td>\n",
       "      <td>1</td>\n",
       "      <td>0.267034</td>\n",
       "      <td>0.0</td>\n",
       "      <td>0.0</td>\n",
       "      <td>1.063879</td>\n",
       "    </tr>\n",
       "    <tr>\n",
       "      <th>6</th>\n",
       "      <td>1.4</td>\n",
       "      <td>81.0</td>\n",
       "      <td>0.333</td>\n",
       "      <td>1002.0</td>\n",
       "      <td>0.0</td>\n",
       "      <td>0.251</td>\n",
       "      <td>1</td>\n",
       "      <td>0.262579</td>\n",
       "      <td>0.0</td>\n",
       "      <td>0.0</td>\n",
       "      <td>1.046130</td>\n",
       "    </tr>\n",
       "    <tr>\n",
       "      <th>7</th>\n",
       "      <td>1.4</td>\n",
       "      <td>81.0</td>\n",
       "      <td>0.333</td>\n",
       "      <td>1001.0</td>\n",
       "      <td>0.0</td>\n",
       "      <td>0.251</td>\n",
       "      <td>1</td>\n",
       "      <td>0.262317</td>\n",
       "      <td>0.0</td>\n",
       "      <td>0.0</td>\n",
       "      <td>1.045086</td>\n",
       "    </tr>\n",
       "    <tr>\n",
       "      <th>8</th>\n",
       "      <td>1.4</td>\n",
       "      <td>81.0</td>\n",
       "      <td>0.333</td>\n",
       "      <td>1004.0</td>\n",
       "      <td>0.0</td>\n",
       "      <td>0.251</td>\n",
       "      <td>1</td>\n",
       "      <td>0.263103</td>\n",
       "      <td>0.0</td>\n",
       "      <td>0.0</td>\n",
       "      <td>1.048218</td>\n",
       "    </tr>\n",
       "    <tr>\n",
       "      <th>9</th>\n",
       "      <td>1.4</td>\n",
       "      <td>81.0</td>\n",
       "      <td>0.329</td>\n",
       "      <td>1010.0</td>\n",
       "      <td>0.0</td>\n",
       "      <td>0.251</td>\n",
       "      <td>1</td>\n",
       "      <td>0.264675</td>\n",
       "      <td>0.0</td>\n",
       "      <td>0.0</td>\n",
       "      <td>1.054482</td>\n",
       "    </tr>\n",
       "  </tbody>\n",
       "</table>\n",
       "</div>"
      ],
      "text/plain": [
       "   ENGINE_POWER  ENGINE_COOLANT_TEMP  ENGINE_LOAD  ENGINE_RPM  SPEED  \\\n",
       "0           1.4                 80.0        0.333      1009.0    0.0   \n",
       "1           1.4                 80.0        0.325      1003.0    0.0   \n",
       "2           1.4                 80.0        0.329       995.0    0.0   \n",
       "3           1.4                 80.0        0.325      1004.0    0.0   \n",
       "4           1.4                 80.0        0.329      1005.0    0.0   \n",
       "5           1.4                 81.0        0.329      1019.0    0.0   \n",
       "6           1.4                 81.0        0.333      1002.0    0.0   \n",
       "7           1.4                 81.0        0.333      1001.0    0.0   \n",
       "8           1.4                 81.0        0.333      1004.0    0.0   \n",
       "9           1.4                 81.0        0.329      1010.0    0.0   \n",
       "\n",
       "   THROTTLE_POS  Cluster  Relative_RPM  Relative_Speed  Rev. Speed/Rev. RPM  \\\n",
       "0         0.251        1      0.264413             0.0                  0.0   \n",
       "1         0.251        1      0.262841             0.0                  0.0   \n",
       "2         0.251        1      0.260744             0.0                  0.0   \n",
       "3         0.251        1      0.263103             0.0                  0.0   \n",
       "4         0.251        1      0.263365             0.0                  0.0   \n",
       "5         0.251        1      0.267034             0.0                  0.0   \n",
       "6         0.251        1      0.262579             0.0                  0.0   \n",
       "7         0.251        1      0.262317             0.0                  0.0   \n",
       "8         0.251        1      0.263103             0.0                  0.0   \n",
       "9         0.251        1      0.264675             0.0                  0.0   \n",
       "\n",
       "   Rev_RPM/Throttle_Pos.  \n",
       "0               1.053438  \n",
       "1               1.047174  \n",
       "2               1.038822  \n",
       "3               1.048218  \n",
       "4               1.049262  \n",
       "5               1.063879  \n",
       "6               1.046130  \n",
       "7               1.045086  \n",
       "8               1.048218  \n",
       "9               1.054482  "
      ]
     },
     "execution_count": 52,
     "metadata": {},
     "output_type": "execute_result"
    }
   ],
   "source": [
    "df2.head(10)"
   ]
  },
  {
   "cell_type": "code",
   "execution_count": 53,
   "metadata": {},
   "outputs": [
    {
     "data": {
      "text/plain": [
       "<matplotlib.axes._subplots.AxesSubplot at 0x191ae7e4548>"
      ]
     },
     "execution_count": 53,
     "metadata": {},
     "output_type": "execute_result"
    },
    {
     "data": {
      "image/png": "[encoded data removed]",
      "text/plain": [
       "<Figure size 432x288 with 1 Axes>"
      ]
     },
     "metadata": {
      "needs_background": "light"
     },
     "output_type": "display_data"
    }
   ],
   "source": [
    "import seaborn as sns\n",
    "\n",
    "sns.boxplot(x='Cluster', y='SPEED', data=df2)"
   ]
  },
  {
   "cell_type": "code",
   "execution_count": 54,
   "metadata": {},
   "outputs": [
    {
     "data": {
      "text/plain": [
       "<matplotlib.axes._subplots.AxesSubplot at 0x191b2ecb788>"
      ]
     },
     "execution_count": 54,
     "metadata": {},
     "output_type": "execute_result"
    },
    {
     "data": {
      "image/png": "[encoded data removed]",
      "text/plain": [
       "<Figure size 432x288 with 1 Axes>"
      ]
     },
     "metadata": {
      "needs_background": "light"
     },
     "output_type": "display_data"
    }
   ],
   "source": [
    "sns.boxplot(x='Cluster', y='ENGINE_RPM', data=df2)"
   ]
  },
  {
   "cell_type": "code",
   "execution_count": 55,
   "metadata": {},
   "outputs": [
    {
     "data": {
      "text/plain": [
       "<matplotlib.axes._subplots.AxesSubplot at 0x191b2ecb048>"
      ]
     },
     "execution_count": 55,
     "metadata": {},
     "output_type": "execute_result"
    },
    {
     "data": {
      "image/png": "[encoded data removed]",
      "text/plain": [
       "<Figure size 432x288 with 1 Axes>"
      ]
     },
     "metadata": {
      "needs_background": "light"
     },
     "output_type": "display_data"
    }
   ],
   "source": [
    "sns.boxplot(x='Cluster', y='ENGINE_LOAD', data=df2)"
   ]
  },
  {
   "cell_type": "code",
   "execution_count": 56,
   "metadata": {},
   "outputs": [
    {
     "data": {
      "text/plain": [
       "<matplotlib.axes._subplots.AxesSubplot at 0x191b0245d48>"
      ]
     },
     "execution_count": 56,
     "metadata": {},
     "output_type": "execute_result"
    },
    {
     "data": {
      "image/png": "[encoded data removed]",
      "text/plain": [
       "<Figure size 432x288 with 1 Axes>"
      ]
     },
     "metadata": {
      "needs_background": "light"
     },
     "output_type": "display_data"
    }
   ],
   "source": [
    "sns.boxplot(x='Cluster', y='ENGINE_COOLANT_TEMP', data=df2)"
   ]
  },
  {
   "cell_type": "code",
   "execution_count": 57,
   "metadata": {},
   "outputs": [
    {
     "data": {
      "text/plain": [
       "<matplotlib.axes._subplots.AxesSubplot at 0x191b0245f88>"
      ]
     },
     "execution_count": 57,
     "metadata": {},
     "output_type": "execute_result"
    },
    {
     "data": {
      "image/png": "[encoded data removed]",
      "text/plain": [
       "<Figure size 432x288 with 1 Axes>"
      ]
     },
     "metadata": {
      "needs_background": "light"
     },
     "output_type": "display_data"
    }
   ],
   "source": [
    "sns.boxplot(x='Cluster', y='THROTTLE_POS', data=df2)"
   ]
  },
  {
   "cell_type": "code",
   "execution_count": 58,
   "metadata": {},
   "outputs": [
    {
     "data": {
      "text/plain": [
       "[(0, 2)]"
      ]
     },
     "execution_count": 58,
     "metadata": {},
     "output_type": "execute_result"
    },
    {
     "data": {
      "image/png": "[encoded data removed]",
      "text/plain": [
       "<Figure size 432x288 with 1 Axes>"
      ]
     },
     "metadata": {
      "needs_background": "light"
     },
     "output_type": "display_data"
    }
   ],
   "source": [
    "ax = sns.boxplot(x='Cluster', y='Rev. Speed/Rev. RPM', data=df2)\n",
    "ax.set(ylim=(0,2))"
   ]
  },
  {
   "cell_type": "code",
   "execution_count": 59,
   "metadata": {},
   "outputs": [
    {
     "data": {
      "text/plain": [
       "[(0, 6)]"
      ]
     },
     "execution_count": 59,
     "metadata": {},
     "output_type": "execute_result"
    },
    {
     "data": {
      "image/png": "[encoded data removed]",
      "text/plain": [
       "<Figure size 432x288 with 1 Axes>"
      ]
     },
     "metadata": {
      "needs_background": "light"
     },
     "output_type": "display_data"
    }
   ],
   "source": [
    "ax =sns.boxplot(x='Cluster', y='Rev_RPM/Throttle_Pos.', data=df2)\n",
    "ax.set(ylim=(0,6))"
   ]
  },
  {
   "cell_type": "code",
   "execution_count": 60,
   "metadata": {},
   "outputs": [],
   "source": [
    "df_filtered_0 = df2[df2['Cluster'] == 0]\n",
    "df_filtered_1 = df2[df2['Cluster'] == 1]\n",
    "df_filtered_2 = df2[df2['Cluster'] == 2]\n",
    "df_filtered_3 = df2[df2['Cluster'] == 3]\n",
    "df_filtered_4 = df2[df2['Cluster'] == 4]"
   ]
  },
  {
   "cell_type": "code",
   "execution_count": 61,
   "metadata": {},
   "outputs": [
    {
     "data": {
      "image/png": "[encoded data removed]",
      "text/plain": [
       "<Figure size 864x432 with 1 Axes>"
      ]
     },
     "metadata": {
      "needs_background": "light"
     },
     "output_type": "display_data"
    }
   ],
   "source": [
    "fig, ax = plt.subplots(figsize=(12,6))\n",
    "ax.scatter(df_filtered_2['SPEED'], df_filtered_2['ENGINE_RPM'])\n",
    "ax.set_xlabel('SPEED')\n",
    "ax.set_ylabel('ENGINE_RPM')\n",
    "plt.show()"
   ]
  },
  {
   "cell_type": "code",
   "execution_count": 62,
   "metadata": {},
   "outputs": [
    {
     "data": {
      "image/png": "[encoded data removed]",
      "text/plain": [
       "<Figure size 864x432 with 1 Axes>"
      ]
     },
     "metadata": {
      "needs_background": "light"
     },
     "output_type": "display_data"
    }
   ],
   "source": [
    "fig, ax = plt.subplots(figsize=(12,6))\n",
    "ax.scatter(df_filtered_4['SPEED'], df_filtered_4['ENGINE_RPM'])\n",
    "ax.set_xlabel('SPEED')\n",
    "ax.set_ylabel('ENGINE_RPM')\n",
    "plt.show()"
   ]
  },
  {
   "cell_type": "code",
   "execution_count": 63,
   "metadata": {},
   "outputs": [
    {
     "data": {
      "image/png": "[encoded data removed]",
      "text/plain": [
       "<Figure size 864x432 with 1 Axes>"
      ]
     },
     "metadata": {
      "needs_background": "light"
     },
     "output_type": "display_data"
    }
   ],
   "source": [
    "fig, ax = plt.subplots(figsize=(12,6))\n",
    "ax.scatter(df_filtered_0['SPEED'], df_filtered_0['ENGINE_RPM'])\n",
    "ax.set_xlabel('SPEED')\n",
    "ax.set_ylabel('ENGINE_RPM')\n",
    "plt.show()"
   ]
  },
  {
   "cell_type": "code",
   "execution_count": 64,
   "metadata": {},
   "outputs": [
    {
     "data": {
      "image/png": "[encoded data removed]",
      "text/plain": [
       "<Figure size 864x432 with 1 Axes>"
      ]
     },
     "metadata": {
      "needs_background": "light"
     },
     "output_type": "display_data"
    }
   ],
   "source": [
    "fig, ax = plt.subplots(figsize=(12,6))\n",
    "ax.scatter(df_filtered_1['SPEED'], df_filtered_1['ENGINE_RPM'])\n",
    "ax.set_xlabel('SPEED')\n",
    "ax.set_ylabel('ENGINE_RPM')\n",
    "plt.show()"
   ]
  },
  {
   "cell_type": "code",
   "execution_count": 65,
   "metadata": {},
   "outputs": [
    {
     "data": {
      "image/png": "[encoded data removed]",
      "text/plain": [
       "<Figure size 864x432 with 1 Axes>"
      ]
     },
     "metadata": {
      "needs_background": "light"
     },
     "output_type": "display_data"
    }
   ],
   "source": [
    "fig, ax = plt.subplots(figsize=(12,6))\n",
    "ax.scatter(df_filtered_3['SPEED'], df_filtered_3['ENGINE_RPM'])\n",
    "ax.set_xlabel('SPEED')\n",
    "ax.set_ylabel('ENGINE_RPM')\n",
    "plt.show()"
   ]
  },
  {
   "cell_type": "code",
   "execution_count": 66,
   "metadata": {},
   "outputs": [],
   "source": [
    "#Cluster3: Aggressive, Rash and very Fuel inefficient/Poor Driving\n",
    "#Cluster2: UnderConfident and Fuel Inefficient Driving\n",
    "#Cluster 1: Optimal\n",
    "#rest 2, under and over confident\n"
   ]
  },
  {
   "cell_type": "code",
   "execution_count": 67,
   "metadata": {},
   "outputs": [
    {
     "name": "stderr",
     "output_type": "stream",
     "text": [
      "C:\\Users\\Swati\\anaconda3\\lib\\site-packages\\pandas\\core\\frame.py:3997: SettingWithCopyWarning: \n",
      "A value is trying to be set on a copy of a slice from a DataFrame\n",
      "\n",
      "See the caveats in the documentation: https://pandas.pydata.org/pandas-docs/stable/user_guide/indexing.html#returning-a-view-versus-a-copy\n",
      "  errors=errors,\n"
     ]
    }
   ],
   "source": [
    "df2.drop(['Relative_RPM','Relative_Speed','Rev. Speed/Rev. RPM','Rev_RPM/Throttle_Pos.'], axis=1, inplace=True)"
   ]
  },
  {
   "cell_type": "code",
   "execution_count": 68,
   "metadata": {},
   "outputs": [],
   "source": [
    "X = df2.copy().drop([\"Cluster\"],axis=1)#drop the alpha ticker and date\n",
    "Y = df2[\"Cluster\"]"
   ]
  },
  {
   "cell_type": "code",
   "execution_count": 69,
   "metadata": {},
   "outputs": [],
   "source": [
    "from sklearn.model_selection import train_test_split\n",
    "x_train, x_test, y_train, y_test = train_test_split(X, Y, test_size=0.30,random_state=4)"
   ]
  },
  {
   "cell_type": "code",
   "execution_count": 70,
   "metadata": {},
   "outputs": [
    {
     "name": "stdout",
     "output_type": "stream",
     "text": [
      "(20409, 6)\n",
      "(20409,)\n",
      "(8748, 6)\n",
      "(8748,)\n"
     ]
    }
   ],
   "source": [
    "print(x_train.shape)\n",
    "print(y_train.shape)\n",
    "print(x_test.shape)\n",
    "print(y_test.shape)"
   ]
  },
  {
   "cell_type": "code",
   "execution_count": 71,
   "metadata": {},
   "outputs": [
    {
     "name": "stderr",
     "output_type": "stream",
     "text": [
      "C:\\Users\\Swati\\anaconda3\\lib\\site-packages\\tpot\\builtins\\__init__.py:36: UserWarning: Warning: optional dependency `torch` is not available. - skipping import of NN models.\n",
      "  warnings.warn(\"Warning: optional dependency `torch` is not available. - skipping import of NN models.\")\n"
     ]
    },
    {
     "data": {
      "application/vnd.jupyter.widget-view+json": {
       "model_id": "",
       "version_major": 2,
       "version_minor": 0
      },
      "text/plain": [
       "HBox(children=(FloatProgress(value=0.0, description='Optimization Progress', max=600.0, style=ProgressStyle(de…"
      ]
     },
     "metadata": {},
     "output_type": "display_data"
    },
    {
     "name": "stdout",
     "output_type": "stream",
     "text": [
      "\n",
      "Generation 1 - Current best internal CV score: 0.9998530132288094\n",
      "Generation 2 - Current best internal CV score: 0.9998530132288094\n",
      "Generation 3 - Current best internal CV score: 0.9998530132288094\n",
      "Generation 4 - Current best internal CV score: 0.9998530132288094\n",
      "Generation 5 - Current best internal CV score: 0.9998530132288094\n",
      "Best pipeline: XGBClassifier(PCA(input_matrix, iterated_power=1, svd_solver=randomized), learning_rate=0.001, max_depth=8, min_child_weight=8, n_estimators=100, nthread=1, subsample=0.5)\n"
     ]
    },
    {
     "data": {
      "text/plain": [
       "TPOTClassifier(config_dict=None, crossover_rate=0.1, cv=5,\n",
       "               disable_update_check=False, early_stop=None, generations=5,\n",
       "               log_file=<ipykernel.iostream.OutStream object at 0x00000191A9E4DF08>,\n",
       "               max_eval_time_mins=5, max_time_mins=None, memory=None,\n",
       "               mutation_rate=0.9, n_jobs=1, offspring_size=None,\n",
       "               periodic_checkpoint_folder=None, population_size=100,\n",
       "               random_state=2, scoring=None, subsample=1.0, template=None,\n",
       "               use_dask=False, verbosity=2, warm_start=False)"
      ]
     },
     "execution_count": 71,
     "metadata": {},
     "output_type": "execute_result"
    }
   ],
   "source": [
    "from tpot import TPOTClassifier\n",
    "tpot_mod=TPOTClassifier(generations=5,population_size=100,verbosity=2,random_state=2)\n",
    "tpot_mod.fit(x_train,y_train)"
   ]
  },
  {
   "cell_type": "code",
   "execution_count": 73,
   "metadata": {},
   "outputs": [],
   "source": [
    "tpot_pred_train = tpot_mod.predict(x_train)"
   ]
  },
  {
   "cell_type": "code",
   "execution_count": 74,
   "metadata": {},
   "outputs": [],
   "source": [
    "tpot_pred_val = tpot_mod.predict(x_test)"
   ]
  },
  {
   "cell_type": "code",
   "execution_count": 80,
   "metadata": {},
   "outputs": [
    {
     "name": "stdout",
     "output_type": "stream",
     "text": [
      "Train Accuracy : 0.9999020040178352\n",
      "Test_Accuray   :  0.9997713763145862\n"
     ]
    }
   ],
   "source": [
    "from sklearn.metrics import accuracy_score\n",
    "\n",
    "print(\"Train Accuracy :\",accuracy_score(y_train,tpot_pred_train))\n",
    "print(\"Test_Accuray   : \",accuracy_score(y_test,tpot_pred_val))"
   ]
  },
  {
   "cell_type": "code",
   "execution_count": 77,
   "metadata": {},
   "outputs": [
    {
     "name": "stdout",
     "output_type": "stream",
     "text": [
      "              precision    recall  f1-score   support\n",
      "\n",
      "           0       1.00      1.00      1.00      3576\n",
      "           1       1.00      1.00      1.00      5890\n",
      "           2       1.00      1.00      1.00      5211\n",
      "           3       1.00      1.00      1.00      1365\n",
      "           4       1.00      1.00      1.00      4367\n",
      "\n",
      "    accuracy                           1.00     20409\n",
      "   macro avg       1.00      1.00      1.00     20409\n",
      "weighted avg       1.00      1.00      1.00     20409\n",
      "\n"
     ]
    }
   ],
   "source": [
    "from sklearn.metrics import classification_report\n",
    "print(classification_report(y_train,tpot_pred_train))"
   ]
  },
  {
   "cell_type": "code",
   "execution_count": null,
   "metadata": {},
   "outputs": [],
   "source": []
  },
  {
   "cell_type": "code",
   "execution_count": null,
   "metadata": {},
   "outputs": [],
   "source": []
  }
 ],
 "metadata": {
  "kernelspec": {
   "display_name": "Python 3",
   "language": "python",
   "name": "python3"
  },
  "language_info": {
   "codemirror_mode": {
    "name": "ipython",
    "version": 3
   },
   "file_extension": ".py",
   "mimetype": "text/x-python",
   "name": "python",
   "nbconvert_exporter": "python",
   "pygments_lexer": "ipython3",
   "version": "3.7.6"
  }
 },
 "nbformat": 4,
 "nbformat_minor": 2
}
